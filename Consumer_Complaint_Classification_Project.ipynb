{
  "nbformat": 4,
  "nbformat_minor": 0,
  "metadata": {
    "colab": {
      "provenance": []
    },
    "kernelspec": {
      "name": "python3",
      "display_name": "Python 3"
    },
    "language_info": {
      "name": "python"
    }
  },
  "cells": [
    {
      "cell_type": "markdown",
      "source": [
        "## Problem Statement\n",
        "There is an increasing volume of consumer complaints received by consumer care departments daily, leading to a need for an efficient and automated system to classify the nature of these complaints in order to prioritize and solve them in a timely manner, and prevent consumer loss.This problem aims to identify the category of the complaint filed by the consumer to identify the most important issues to be addressed first. The Product column contains the name of the product where the consumer found issues. So the Product column is the target variable in this classification problem"
      ],
      "metadata": {
        "id": "xN4lQ4-cLRSp"
      }
    },
    {
      "cell_type": "markdown",
      "source": [
        "## Data\n",
        "The problem of consumer complaint classification is based on Natural Language Processing and Multiclass Classification. To solve this problem, we needed a dataset containing complaints reported by consumers.\n",
        "\n",
        "I found an ideal dataset for this task that contains data about:\n",
        "\n",
        "1. The nature of the complaint reported by the consumer\n",
        "\n",
        "2. The Issue mentioned by the consumer\n",
        "\n",
        "3. The complete description of the complaint of the consumer\n",
        "\n",
        "We can use this data to build a Machine Learning model that can classify the nature of complaints reported by consumers in real time. You can download the dataset here:https://statso.io/consumer-complaint-identification-case-study/"
      ],
      "metadata": {
        "id": "VGepr9bnLdgF"
      }
    },
    {
      "cell_type": "markdown",
      "source": [
        "## Data Features\n",
        "1. Date received: The date on which the complaint received\n",
        "2. Product: Type of product in which the consumer identified complaint\n",
        "3. Sub-product: Type of sub-product in which the consumer identified complaint\n",
        "4. Issue: The issue reported by the consumer\n",
        "5. Sub-issue: The sub-issue reported by the consumer\n",
        "6. Consumer complaint narrative: Complete description of the complaint reported by the consumer"
      ],
      "metadata": {
        "id": "ZrBOn-BJMeCE"
      }
    },
    {
      "cell_type": "markdown",
      "source": [
        "## importing the necessary Python libraries"
      ],
      "metadata": {
        "id": "83WfUMzUQPOM"
      }
    },
    {
      "cell_type": "code",
      "execution_count": 1,
      "metadata": {
        "id": "-FAZYkakF4T8"
      },
      "outputs": [],
      "source": [
        "import pandas as pd\n",
        "import numpy as np\n",
        "from sklearn.feature_extraction.text import CountVectorizer\n",
        "from sklearn.model_selection import train_test_split\n",
        "from sklearn.naive_bayes import MultinomialNB\n",
        "from sklearn.linear_model import SGDClassifier\n",
        "import nltk\n",
        "import re\n",
        "from nltk.corpus import stopwords\n",
        "import string"
      ]
    },
    {
      "cell_type": "markdown",
      "source": [
        "## Loading the data"
      ],
      "metadata": {
        "id": "KXVrh4XAQeuj"
      }
    },
    {
      "cell_type": "code",
      "source": [
        "data = pd.read_csv(\"/content/drive/MyDrive/filename/consumercomplaints.csv\")\n",
        "print(data.head())"
      ],
      "metadata": {
        "id": "gF1PcDN7Qqrb",
        "colab": {
          "base_uri": "https://localhost:8080/"
        },
        "outputId": "19a01ee3-4a28-4e4f-f385-d6cb51adff76"
      },
      "execution_count": 3,
      "outputs": [
        {
          "output_type": "stream",
          "name": "stdout",
          "text": [
            "   Unnamed: 0 Date received  \\\n",
            "0           0    2022-11-11   \n",
            "1           1    2022-11-23   \n",
            "2           2    2022-11-16   \n",
            "3           3    2022-11-15   \n",
            "4           4    2022-11-07   \n",
            "\n",
            "                                             Product  \\\n",
            "0                                           Mortgage   \n",
            "1  Credit reporting, credit repair services, or o...   \n",
            "2                                           Mortgage   \n",
            "3                        Checking or savings account   \n",
            "4                                           Mortgage   \n",
            "\n",
            "                  Sub-product                           Issue  \\\n",
            "0  Conventional home mortgage  Trouble during payment process   \n",
            "1            Credit reporting     Improper use of your report   \n",
            "2                 VA mortgage  Trouble during payment process   \n",
            "3            Checking account             Managing an account   \n",
            "4      Other type of mortgage  Trouble during payment process   \n",
            "\n",
            "                                       Sub-issue  \\\n",
            "0                                            NaN   \n",
            "1  Reporting company used your report improperly   \n",
            "2                                            NaN   \n",
            "3                                    Fee problem   \n",
            "4                                            NaN   \n",
            "\n",
            "                        Consumer complaint narrative  \n",
            "0                                                NaN  \n",
            "1                                                NaN  \n",
            "2                                                NaN  \n",
            "3  Hi, I have been banking with Wells Fargo for o...  \n",
            "4                                                NaN  \n"
          ]
        }
      ]
    },
    {
      "cell_type": "markdown",
      "source": [
        "The dataset contains an Unnamed column. I’ll remove the column and move further"
      ],
      "metadata": {
        "id": "tSYA4vIJbZ4R"
      }
    },
    {
      "cell_type": "code",
      "source": [
        "data = data.drop(\"Unnamed: 0\",axis=1)"
      ],
      "metadata": {
        "id": "L6TE9d8xbbI0"
      },
      "execution_count": 4,
      "outputs": []
    },
    {
      "cell_type": "markdown",
      "source": [
        "Now let’s have a look if the dataset contains null values or not:"
      ],
      "metadata": {
        "id": "hGSRZ0LGbmBn"
      }
    },
    {
      "cell_type": "code",
      "source": [
        "print(data.isnull().sum())"
      ],
      "metadata": {
        "id": "ZdNBqWC8bnNM",
        "colab": {
          "base_uri": "https://localhost:8080/"
        },
        "outputId": "5b090f72-f5f9-42b7-b74c-5b2359146aa8"
      },
      "execution_count": 5,
      "outputs": [
        {
          "output_type": "stream",
          "name": "stdout",
          "text": [
            "Date received                         0\n",
            "Product                               0\n",
            "Sub-product                      235294\n",
            "Issue                                 0\n",
            "Sub-issue                        683355\n",
            "Consumer complaint narrative    1987977\n",
            "dtype: int64\n"
          ]
        }
      ]
    },
    {
      "cell_type": "markdown",
      "source": [
        "The dataset contains so many null values. I’ll drop all the rows containing null values and move further:"
      ],
      "metadata": {
        "id": "BHasrvXwb0pL"
      }
    },
    {
      "cell_type": "code",
      "source": [
        "data = data.dropna()"
      ],
      "metadata": {
        "id": "sIEGdhEUb1_z"
      },
      "execution_count": 6,
      "outputs": []
    },
    {
      "cell_type": "markdown",
      "source": [
        "The product column in the dataset contains the labels. Here the labels represent the nature of the complaints reported by the consumers. Let’s have a look at all the labels and their frequency:"
      ],
      "metadata": {
        "id": "1oF6fNR7b9oT"
      }
    },
    {
      "cell_type": "code",
      "source": [
        "print(data[\"Product\"].value_counts())"
      ],
      "metadata": {
        "id": "B1DF8XGjb-vK",
        "colab": {
          "base_uri": "https://localhost:8080/"
        },
        "outputId": "ad77b56a-4e24-4452-d25a-b61fa26bf3b1"
      },
      "execution_count": 7,
      "outputs": [
        {
          "output_type": "stream",
          "name": "stdout",
          "text": [
            "Credit reporting, credit repair services, or other personal consumer reports    507582\n",
            "Debt collection                                                                 192045\n",
            "Credit card or prepaid card                                                      80410\n",
            "Checking or savings account                                                      54192\n",
            "Student loan                                                                     32697\n",
            "Vehicle loan or lease                                                            19874\n",
            "Payday loan, title loan, or personal loan                                         1008\n",
            "Name: Product, dtype: int64\n"
          ]
        }
      ]
    },
    {
      "cell_type": "markdown",
      "source": [
        "## Training Consumer Complaint Classification Model\n",
        "The consumer complaint narrative column contains the complete description of the complaints reported by the consumers. I will clean and prepare this column before using it in a Machine Learning model "
      ],
      "metadata": {
        "id": "Bt_HOIAbcFUE"
      }
    },
    {
      "cell_type": "code",
      "source": [
        "nltk.download('stopwords')\n",
        "stemmer = nltk.SnowballStemmer(\"english\")\n",
        "stopword=set(stopwords.words('english'))\n",
        "\n",
        "def clean(text):\n",
        "    text = str(text).lower()\n",
        "    text = re.sub('\\[.*?\\]', '', text)\n",
        "    text = re.sub('https?://\\S+|www\\.\\S+', '', text)\n",
        "    text = re.sub('<.*?>+', '', text)\n",
        "    text = re.sub('[%s]' % re.escape(string.punctuation), '', text)\n",
        "    text = re.sub('\\n', '', text)\n",
        "    text = re.sub('\\w*\\d\\w*', '', text)\n",
        "    text = [word for word in text.split(' ') if word not in stopword]\n",
        "    text=\" \".join(text)\n",
        "    text = [stemmer.stem(word) for word in text.split(' ')]\n",
        "    text=\" \".join(text)\n",
        "    return text"
      ],
      "metadata": {
        "id": "5UunuWCscI-b",
        "colab": {
          "base_uri": "https://localhost:8080/"
        },
        "outputId": "d108f41b-a61a-4df2-f39b-a876e2dbd001"
      },
      "execution_count": 8,
      "outputs": [
        {
          "output_type": "stream",
          "name": "stderr",
          "text": [
            "[nltk_data] Downloading package stopwords to /root/nltk_data...\n",
            "[nltk_data]   Unzipping corpora/stopwords.zip.\n"
          ]
        }
      ]
    },
    {
      "cell_type": "markdown",
      "source": [
        "Now, let’s split the data into training and test sets:"
      ],
      "metadata": {
        "id": "WG3HEu_CcaUy"
      }
    },
    {
      "cell_type": "code",
      "source": [
        "data = data[[\"Consumer complaint narrative\", \"Product\"]]\n",
        "x = np.array(data[\"Consumer complaint narrative\"])\n",
        "y = np.array(data[\"Product\"])\n",
        "\n",
        "cv = CountVectorizer()\n",
        "X = cv.fit_transform(x)\n",
        "X_train, X_test, y_train, y_test = train_test_split(X, y, \n",
        "                                                    test_size=0.33, \n",
        "                                                    random_state=42)"
      ],
      "metadata": {
        "id": "7ut9EGu0cX-C"
      },
      "execution_count": 9,
      "outputs": []
    },
    {
      "cell_type": "markdown",
      "source": [
        "Now, let’s train the Machine Learning model using the Stochastic Gradient Descent classification algorithm:"
      ],
      "metadata": {
        "id": "QoBrA8z0ch1D"
      }
    },
    {
      "cell_type": "code",
      "source": [
        "sgdmodel = SGDClassifier()\n",
        "sgdmodel.fit(X_train,y_train)"
      ],
      "metadata": {
        "id": "kADJ238sckwN",
        "colab": {
          "base_uri": "https://localhost:8080/"
        },
        "outputId": "b10345d9-ea52-48ac-efb5-2347a8af3365"
      },
      "execution_count": 10,
      "outputs": [
        {
          "output_type": "execute_result",
          "data": {
            "text/plain": [
              "SGDClassifier()"
            ]
          },
          "metadata": {},
          "execution_count": 10
        }
      ]
    },
    {
      "cell_type": "markdown",
      "source": [
        "Now, let’s use our trained model to make predictions:"
      ],
      "metadata": {
        "id": "QjrnxIMFcqJ6"
      }
    },
    {
      "cell_type": "code",
      "source": [
        "user = input(\"Enter a Text: \")\n",
        "data = cv.transform([user]).toarray()\n",
        "output = sgdmodel.predict(data)\n",
        "print(output)"
      ],
      "metadata": {
        "id": "7d4S7ZtLctQa",
        "colab": {
          "base_uri": "https://localhost:8080/"
        },
        "outputId": "7e7619d6-2086-4a47-e185-0ddcb346c599"
      },
      "execution_count": 11,
      "outputs": [
        {
          "output_type": "stream",
          "name": "stdout",
          "text": [
            "Enter a Text: On 02/05/2022, I called Citi Bank Customer Service at 555-555-5555. I did not want to pay {$99.00} for the next year membership and wanted to cancel my card account. A customer service representative told me if I pay the {$99.00} membership fee and spending {$1000.00} in 3 months, I can get 10,000 mileage reward points of ABC Airlines. I believed what he said and paid {$99.00} membership fee on 02/07/2022. I spent more than {$1000.00} in 3 months since 02/07/2022. On 05/10/2022, I called the card Customer Service about my reward mileage points. I was told the reward mileage points are NOT 10,000. I can only get 7,500 mileage points instead. I believe that the Citi Bank Customer Service cheated me. This is business fraud!\n",
            "['Credit card or prepaid card']\n"
          ]
        }
      ]
    },
    {
      "cell_type": "code",
      "source": [
        "user = input(\"Enter a Text: \")\n",
        "data = cv.transform([user]).toarray()\n",
        "output = sgdmodel.predict(data)\n",
        "print(output)"
      ],
      "metadata": {
        "id": "SHswh1lEdEXS",
        "colab": {
          "base_uri": "https://localhost:8080/"
        },
        "outputId": "f58bd16c-3622-4fb5-945f-1ed0b35f17ea"
      },
      "execution_count": 12,
      "outputs": [
        {
          "output_type": "stream",
          "name": "stdout",
          "text": [
            "Enter a Text: Investigation took more than 30 days and nothing was changed when clearly there are misleading, incorrect, inaccurate items on my credit report..i have those two accounts attached showing those inaccuracies... I need them to follow the law because this is a violation of my rights!! The EVIDENCE IS IN BLACK AND WHITE ....\n",
            "['Credit reporting, credit repair services, or other personal consumer reports']\n"
          ]
        }
      ]
    },
    {
      "cell_type": "markdown",
      "source": [
        "So this is how we can use Machine Learning for the task of Classifying Consumer Complaints."
      ],
      "metadata": {
        "id": "LM-_EShWdKdZ"
      }
    },
    {
      "cell_type": "markdown",
      "source": [
        "## Conclusion\n",
        "In conclusion, the Consumer Complaint Classification Project aimed at accurately categorizing consumer complaints into various issue categories, such as billing, loan, or fraud. The use of advanced machine learning techniques and natural language processing has proven to be effective in achieving high accuracy levels in classifying these complaints. The results of this project have significant implications for both consumers and companies, as it allows for a more efficient and effective means of addressing consumer complaints and resolving issues. The project highlights the importance of understanding consumer behavior and sentiment in today's data-driven world, and emphasizes the need for continued investment in the development of advanced technologies to better serve the needs of both consumers and businesses."
      ],
      "metadata": {
        "id": "1psdMpGodOIw"
      }
    }
  ]
}