{
  "nbformat": 4,
  "nbformat_minor": 0,
  "metadata": {
    "colab": {
      "provenance": []
    },
    "kernelspec": {
      "name": "python3",
      "display_name": "Python 3"
    },
    "language_info": {
      "name": "python"
    }
  },
  "cells": [
    {
      "cell_type": "markdown",
      "source": [
        "## Problem Statement\n",
        "The goal of this migration prediction project is to use machine learning techniques to accurately predict human migration patterns between countries. This information will be valuable in a variety of contexts, including city planning, international trade, disease control, conservation planning, and public policymaking. The outcome of this project will help improve decision making and support the development of evidence-based policies to address the challenges posed by human migration."
      ],
      "metadata": {
        "id": "kFzzdN9VDhYl"
      }
    },
    {
      "cell_type": "markdown",
      "source": [
        "## Data\n",
        "The dataset, I am using in this task to predict migration can be easily downloaded from here:https://github.com/amankharwal/Website-data/blob/master/migration_nz.csv\n",
        "\n",
        "## Data features\n",
        "Our data has 5 columns:\n",
        "* Measure;the arrivals,depature and net of individuals\n",
        "* Country; the country name of the individuals\n",
        "* Citizenship: the citizenship of individuals\n",
        "* Year: the year the individuals arrived,depatured or net\n",
        "* Value: the number of individuals\n",
        "\n",
        "We need to turn our attention to the “Measure”, “Country” and “CitizenShip” column. If we want to get a prediction result, we need to convert all of the string values ​​to an integer"
      ],
      "metadata": {
        "id": "791GEEfrElGO"
      }
    },
    {
      "cell_type": "markdown",
      "source": [
        "## Importing the necessary libraries\n",
        "We need to import the necessary libraries before we kickstart our project."
      ],
      "metadata": {
        "id": "VI5gYnC4Gqab"
      }
    },
    {
      "cell_type": "code",
      "execution_count": 4,
      "metadata": {
        "id": "SgRY9qU6ACgx"
      },
      "outputs": [],
      "source": [
        "import pandas as pd\n",
        "from sklearn.model_selection import train_test_split\n",
        "from sklearn import svm \n",
        "import seaborn as sns \n",
        "import matplotlib.pyplot as plt\n",
        "from sklearn.metrics import mean_squared_error\n",
        "import numpy as np\n",
        "from sklearn.naive_bayes import GaussianNB"
      ]
    },
    {
      "cell_type": "markdown",
      "source": [
        "## Loading our dataset\n",
        "\n"
      ],
      "metadata": {
        "id": "ecgLS4ZjH5ns"
      }
    },
    {
      "cell_type": "code",
      "source": [
        "data = pd.read_csv('/content/drive/MyDrive/filename/migration_nz.csv')\n",
        "data.head(10)"
      ],
      "metadata": {
        "colab": {
          "base_uri": "https://localhost:8080/",
          "height": 363
        },
        "id": "X1RvHosEH-hD",
        "outputId": "17ebcb03-1f3c-43f2-f307-ceb43cffbd54"
      },
      "execution_count": 5,
      "outputs": [
        {
          "output_type": "execute_result",
          "data": {
            "text/plain": [
              "    Measure         Country             Citizenship  Year    Value\n",
              "0  Arrivals         Oceania     New Zealand Citizen  1979  11817.0\n",
              "1  Arrivals         Oceania      Australian Citizen  1979   4436.0\n",
              "2  Arrivals         Oceania  Total All Citizenships  1979  19965.0\n",
              "3  Arrivals      Antarctica     New Zealand Citizen  1979     10.0\n",
              "4  Arrivals      Antarctica      Australian Citizen  1979      0.0\n",
              "5  Arrivals      Antarctica  Total All Citizenships  1979     13.0\n",
              "6  Arrivals  American Samoa     New Zealand Citizen  1979     17.0\n",
              "7  Arrivals  American Samoa      Australian Citizen  1979      4.0\n",
              "8  Arrivals  American Samoa  Total All Citizenships  1979     30.0\n",
              "9  Arrivals       Australia     New Zealand Citizen  1979   8224.0"
            ],
            "text/html": [
              "\n",
              "  <div id=\"df-284c7d11-f446-44aa-a4a1-a823e8ec8923\">\n",
              "    <div class=\"colab-df-container\">\n",
              "      <div>\n",
              "<style scoped>\n",
              "    .dataframe tbody tr th:only-of-type {\n",
              "        vertical-align: middle;\n",
              "    }\n",
              "\n",
              "    .dataframe tbody tr th {\n",
              "        vertical-align: top;\n",
              "    }\n",
              "\n",
              "    .dataframe thead th {\n",
              "        text-align: right;\n",
              "    }\n",
              "</style>\n",
              "<table border=\"1\" class=\"dataframe\">\n",
              "  <thead>\n",
              "    <tr style=\"text-align: right;\">\n",
              "      <th></th>\n",
              "      <th>Measure</th>\n",
              "      <th>Country</th>\n",
              "      <th>Citizenship</th>\n",
              "      <th>Year</th>\n",
              "      <th>Value</th>\n",
              "    </tr>\n",
              "  </thead>\n",
              "  <tbody>\n",
              "    <tr>\n",
              "      <th>0</th>\n",
              "      <td>Arrivals</td>\n",
              "      <td>Oceania</td>\n",
              "      <td>New Zealand Citizen</td>\n",
              "      <td>1979</td>\n",
              "      <td>11817.0</td>\n",
              "    </tr>\n",
              "    <tr>\n",
              "      <th>1</th>\n",
              "      <td>Arrivals</td>\n",
              "      <td>Oceania</td>\n",
              "      <td>Australian Citizen</td>\n",
              "      <td>1979</td>\n",
              "      <td>4436.0</td>\n",
              "    </tr>\n",
              "    <tr>\n",
              "      <th>2</th>\n",
              "      <td>Arrivals</td>\n",
              "      <td>Oceania</td>\n",
              "      <td>Total All Citizenships</td>\n",
              "      <td>1979</td>\n",
              "      <td>19965.0</td>\n",
              "    </tr>\n",
              "    <tr>\n",
              "      <th>3</th>\n",
              "      <td>Arrivals</td>\n",
              "      <td>Antarctica</td>\n",
              "      <td>New Zealand Citizen</td>\n",
              "      <td>1979</td>\n",
              "      <td>10.0</td>\n",
              "    </tr>\n",
              "    <tr>\n",
              "      <th>4</th>\n",
              "      <td>Arrivals</td>\n",
              "      <td>Antarctica</td>\n",
              "      <td>Australian Citizen</td>\n",
              "      <td>1979</td>\n",
              "      <td>0.0</td>\n",
              "    </tr>\n",
              "    <tr>\n",
              "      <th>5</th>\n",
              "      <td>Arrivals</td>\n",
              "      <td>Antarctica</td>\n",
              "      <td>Total All Citizenships</td>\n",
              "      <td>1979</td>\n",
              "      <td>13.0</td>\n",
              "    </tr>\n",
              "    <tr>\n",
              "      <th>6</th>\n",
              "      <td>Arrivals</td>\n",
              "      <td>American Samoa</td>\n",
              "      <td>New Zealand Citizen</td>\n",
              "      <td>1979</td>\n",
              "      <td>17.0</td>\n",
              "    </tr>\n",
              "    <tr>\n",
              "      <th>7</th>\n",
              "      <td>Arrivals</td>\n",
              "      <td>American Samoa</td>\n",
              "      <td>Australian Citizen</td>\n",
              "      <td>1979</td>\n",
              "      <td>4.0</td>\n",
              "    </tr>\n",
              "    <tr>\n",
              "      <th>8</th>\n",
              "      <td>Arrivals</td>\n",
              "      <td>American Samoa</td>\n",
              "      <td>Total All Citizenships</td>\n",
              "      <td>1979</td>\n",
              "      <td>30.0</td>\n",
              "    </tr>\n",
              "    <tr>\n",
              "      <th>9</th>\n",
              "      <td>Arrivals</td>\n",
              "      <td>Australia</td>\n",
              "      <td>New Zealand Citizen</td>\n",
              "      <td>1979</td>\n",
              "      <td>8224.0</td>\n",
              "    </tr>\n",
              "  </tbody>\n",
              "</table>\n",
              "</div>\n",
              "      <button class=\"colab-df-convert\" onclick=\"convertToInteractive('df-284c7d11-f446-44aa-a4a1-a823e8ec8923')\"\n",
              "              title=\"Convert this dataframe to an interactive table.\"\n",
              "              style=\"display:none;\">\n",
              "        \n",
              "  <svg xmlns=\"http://www.w3.org/2000/svg\" height=\"24px\"viewBox=\"0 0 24 24\"\n",
              "       width=\"24px\">\n",
              "    <path d=\"M0 0h24v24H0V0z\" fill=\"none\"/>\n",
              "    <path d=\"M18.56 5.44l.94 2.06.94-2.06 2.06-.94-2.06-.94-.94-2.06-.94 2.06-2.06.94zm-11 1L8.5 8.5l.94-2.06 2.06-.94-2.06-.94L8.5 2.5l-.94 2.06-2.06.94zm10 10l.94 2.06.94-2.06 2.06-.94-2.06-.94-.94-2.06-.94 2.06-2.06.94z\"/><path d=\"M17.41 7.96l-1.37-1.37c-.4-.4-.92-.59-1.43-.59-.52 0-1.04.2-1.43.59L10.3 9.45l-7.72 7.72c-.78.78-.78 2.05 0 2.83L4 21.41c.39.39.9.59 1.41.59.51 0 1.02-.2 1.41-.59l7.78-7.78 2.81-2.81c.8-.78.8-2.07 0-2.86zM5.41 20L4 18.59l7.72-7.72 1.47 1.35L5.41 20z\"/>\n",
              "  </svg>\n",
              "      </button>\n",
              "      \n",
              "  <style>\n",
              "    .colab-df-container {\n",
              "      display:flex;\n",
              "      flex-wrap:wrap;\n",
              "      gap: 12px;\n",
              "    }\n",
              "\n",
              "    .colab-df-convert {\n",
              "      background-color: #E8F0FE;\n",
              "      border: none;\n",
              "      border-radius: 50%;\n",
              "      cursor: pointer;\n",
              "      display: none;\n",
              "      fill: #1967D2;\n",
              "      height: 32px;\n",
              "      padding: 0 0 0 0;\n",
              "      width: 32px;\n",
              "    }\n",
              "\n",
              "    .colab-df-convert:hover {\n",
              "      background-color: #E2EBFA;\n",
              "      box-shadow: 0px 1px 2px rgba(60, 64, 67, 0.3), 0px 1px 3px 1px rgba(60, 64, 67, 0.15);\n",
              "      fill: #174EA6;\n",
              "    }\n",
              "\n",
              "    [theme=dark] .colab-df-convert {\n",
              "      background-color: #3B4455;\n",
              "      fill: #D2E3FC;\n",
              "    }\n",
              "\n",
              "    [theme=dark] .colab-df-convert:hover {\n",
              "      background-color: #434B5C;\n",
              "      box-shadow: 0px 1px 3px 1px rgba(0, 0, 0, 0.15);\n",
              "      filter: drop-shadow(0px 1px 2px rgba(0, 0, 0, 0.3));\n",
              "      fill: #FFFFFF;\n",
              "    }\n",
              "  </style>\n",
              "\n",
              "      <script>\n",
              "        const buttonEl =\n",
              "          document.querySelector('#df-284c7d11-f446-44aa-a4a1-a823e8ec8923 button.colab-df-convert');\n",
              "        buttonEl.style.display =\n",
              "          google.colab.kernel.accessAllowed ? 'block' : 'none';\n",
              "\n",
              "        async function convertToInteractive(key) {\n",
              "          const element = document.querySelector('#df-284c7d11-f446-44aa-a4a1-a823e8ec8923');\n",
              "          const dataTable =\n",
              "            await google.colab.kernel.invokeFunction('convertToInteractive',\n",
              "                                                     [key], {});\n",
              "          if (!dataTable) return;\n",
              "\n",
              "          const docLinkHtml = 'Like what you see? Visit the ' +\n",
              "            '<a target=\"_blank\" href=https://colab.research.google.com/notebooks/data_table.ipynb>data table notebook</a>'\n",
              "            + ' to learn more about interactive tables.';\n",
              "          element.innerHTML = '';\n",
              "          dataTable['output_type'] = 'display_data';\n",
              "          await google.colab.output.renderOutput(dataTable, element);\n",
              "          const docLink = document.createElement('div');\n",
              "          docLink.innerHTML = docLinkHtml;\n",
              "          element.appendChild(docLink);\n",
              "        }\n",
              "      </script>\n",
              "    </div>\n",
              "  </div>\n",
              "  "
            ]
          },
          "metadata": {},
          "execution_count": 5
        }
      ]
    },
    {
      "cell_type": "markdown",
      "source": [
        "## Data Exploration (exploratory data analysis or EDA)\n",
        "The goal here is to find out more about the data and become a subject matter expert on the dataset we are working on\n",
        "\n",
        "1. What questions are we trying to solve?\n",
        "2. What kind of data do we have and how do we treat different types?\n",
        "3. What's missing from the data and how do we deal with it?\n",
        "4. What are the outliers and why should we care about them?\n",
        "5. How can we add,change or remove features to get more out of our data?"
      ],
      "metadata": {
        "id": "uCKpPy5JOYcP"
      }
    },
    {
      "cell_type": "code",
      "source": [
        "data.info()"
      ],
      "metadata": {
        "colab": {
          "base_uri": "https://localhost:8080/"
        },
        "id": "gVp1-7QOIbnw",
        "outputId": "772c6985-79d3-4686-95a9-7a4d161bc694"
      },
      "execution_count": 6,
      "outputs": [
        {
          "output_type": "stream",
          "name": "stdout",
          "text": [
            "<class 'pandas.core.frame.DataFrame'>\n",
            "RangeIndex: 86526 entries, 0 to 86525\n",
            "Data columns (total 5 columns):\n",
            " #   Column       Non-Null Count  Dtype  \n",
            "---  ------       --------------  -----  \n",
            " 0   Measure      86526 non-null  object \n",
            " 1   Country      86526 non-null  object \n",
            " 2   Citizenship  86526 non-null  object \n",
            " 3   Year         86526 non-null  int64  \n",
            " 4   Value        86454 non-null  float64\n",
            "dtypes: float64(1), int64(1), object(3)\n",
            "memory usage: 3.3+ MB\n"
          ]
        }
      ]
    },
    {
      "cell_type": "code",
      "source": [
        "data.isnull().sum()"
      ],
      "metadata": {
        "colab": {
          "base_uri": "https://localhost:8080/"
        },
        "id": "vL82zBbzId4B",
        "outputId": "633c38d5-1664-4b92-dc36-50bdad11fd8e"
      },
      "execution_count": 7,
      "outputs": [
        {
          "output_type": "execute_result",
          "data": {
            "text/plain": [
              "Measure         0\n",
              "Country         0\n",
              "Citizenship     0\n",
              "Year            0\n",
              "Value          72\n",
              "dtype: int64"
            ]
          },
          "metadata": {},
          "execution_count": 7
        }
      ]
    },
    {
      "cell_type": "markdown",
      "source": [
        "from our dataset we can see there are 86526 entries with 5 columns and our value column has 72 null values.\n",
        "\n",
        "But first, let’s see the unique values ​​we have in the “Measure” column:"
      ],
      "metadata": {
        "id": "_4WZ--6tIuKQ"
      }
    },
    {
      "cell_type": "code",
      "source": [
        "data['Measure'].unique()"
      ],
      "metadata": {
        "colab": {
          "base_uri": "https://localhost:8080/"
        },
        "id": "2btb0cKvJFBv",
        "outputId": "c135a4e9-3bbd-4914-cd65-1758549eac27"
      },
      "execution_count": 8,
      "outputs": [
        {
          "output_type": "execute_result",
          "data": {
            "text/plain": [
              "array(['Arrivals', 'Departures', 'Net'], dtype=object)"
            ]
          },
          "metadata": {},
          "execution_count": 8
        }
      ]
    },
    {
      "cell_type": "markdown",
      "source": [
        "Now we need to give each unique string value its unique integer value: in case there are not that many values, it is possible for us to use the “replace” function:"
      ],
      "metadata": {
        "id": "5lmWanQsKlpn"
      }
    },
    {
      "cell_type": "code",
      "source": [
        "data['Measure'].replace(\"Arrivals\",0,inplace=True)\n",
        "data['Measure'].replace(\"Departures\",1,inplace=True)\n",
        "data['Measure'].replace(\"Net\",2,inplace=True)"
      ],
      "metadata": {
        "id": "OJIZvcXCKtV1"
      },
      "execution_count": 9,
      "outputs": []
    },
    {
      "cell_type": "markdown",
      "source": [
        "Now let’s check if everything has been correctly assigned"
      ],
      "metadata": {
        "id": "pe41KDdLK1KU"
      }
    },
    {
      "cell_type": "code",
      "source": [
        "data['Measure'].unique()"
      ],
      "metadata": {
        "colab": {
          "base_uri": "https://localhost:8080/"
        },
        "id": "91oy7qsxK2s2",
        "outputId": "36af2c74-1734-402c-dde3-aeda330bcbad"
      },
      "execution_count": 10,
      "outputs": [
        {
          "output_type": "execute_result",
          "data": {
            "text/plain": [
              "array([0, 1, 2])"
            ]
          },
          "metadata": {},
          "execution_count": 10
        }
      ]
    },
    {
      "cell_type": "code",
      "source": [
        "# Let's find out how many of each class there\n",
        "data[\"Measure\"].value_counts()"
      ],
      "metadata": {
        "colab": {
          "base_uri": "https://localhost:8080/"
        },
        "id": "0SvelNUyP3kT",
        "outputId": "73610a39-a2a9-4e74-800a-a769a96cb25c"
      },
      "execution_count": 19,
      "outputs": [
        {
          "output_type": "execute_result",
          "data": {
            "text/plain": [
              "0    28842\n",
              "1    28842\n",
              "2    28842\n",
              "Name: Measure, dtype: int64"
            ]
          },
          "metadata": {},
          "execution_count": 19
        }
      ]
    },
    {
      "cell_type": "markdown",
      "source": [
        "we can infer that they are equally distributed,now lets have some bar graph visualization."
      ],
      "metadata": {
        "id": "E8dcfQIzQEsb"
      }
    },
    {
      "cell_type": "code",
      "source": [
        "data[\"Measure\"].value_counts().plot(kind=\"bar\",color=[\"salmon\",\"lightblue\",\"grey\"]);"
      ],
      "metadata": {
        "colab": {
          "base_uri": "https://localhost:8080/",
          "height": 264
        },
        "id": "UuxcV2kqQNFn",
        "outputId": "fd96fcac-2394-414a-9aa3-2db22bbbec8d"
      },
      "execution_count": 21,
      "outputs": [
        {
          "output_type": "display_data",
          "data": {
            "text/plain": [
              "<Figure size 432x288 with 1 Axes>"
            ],
            "image/png": "[encoded data removed]"
          },
          "metadata": {
            "needs_background": "light"
          }
        }
      ]
    },
    {
      "cell_type": "markdown",
      "source": [
        "In this case, we have about 250 unique countries:"
      ],
      "metadata": {
        "id": "NsfIhAcaK-59"
      }
    },
    {
      "cell_type": "code",
      "source": [
        "data['Country'].unique()"
      ],
      "metadata": {
        "colab": {
          "base_uri": "https://localhost:8080/"
        },
        "id": "_G_T0g22K_5E",
        "outputId": "bd99903b-530f-4bbf-ab94-99419027ee56"
      },
      "execution_count": 11,
      "outputs": [
        {
          "output_type": "execute_result",
          "data": {
            "text/plain": [
              "array(['Oceania', 'Antarctica', 'American Samoa', 'Australia',\n",
              "       'Cocos Islands', 'Cook Islands', 'Christmas Island', 'Fiji',\n",
              "       'Micronesia', 'Guam', 'Kiribati', 'Marshall Islands',\n",
              "       'Northern Mariana Islands', 'New Caledonia', 'Norfolk Island',\n",
              "       'Nauru', 'Niue', 'New Zealand', 'French Polynesia',\n",
              "       'Papua New Guinea', 'Pitcairn Island', 'Palau', 'Solomon Islands',\n",
              "       'French Southern Territories', 'Tokelau', 'Tonga', 'Tuvalu',\n",
              "       'Vanuatu', 'Wallis and Futuna', 'Samoa', 'Asia', 'Afghanistan',\n",
              "       'Armenia', 'Azerbaijan', 'Bangladesh', 'Brunei Darussalam',\n",
              "       'Bhutan', 'China', 'Georgia', 'Hong Kong', 'Indonesia', 'India',\n",
              "       'Japan', 'Kyrgyzstan', 'Cambodia', 'North Korea', 'South Korea',\n",
              "       'Kazakhstan', 'Laos', 'Sri Lanka', 'Myanmar', 'Mongolia', 'Macau',\n",
              "       'Maldives', 'Malaysia', 'Nepal', 'Philippines', 'Pakistan',\n",
              "       'Singapore', 'Thailand', 'Tajikistan', 'Timor-Leste',\n",
              "       'Turkmenistan', 'Taiwan', 'Uzbekistan', 'Vietnam', 'Europe',\n",
              "       'Andorra', 'Albania', 'Austria', 'Bosnia and Herzegovina',\n",
              "       'Belgium', 'Bulgaria', 'Belarus', 'Switzerland', 'Czechoslovakia',\n",
              "       'Cyprus', 'Czechia', 'East Germany', 'Germany', 'Denmark',\n",
              "       'Estonia', 'Spain', 'Finland', 'Faeroe Islands', 'France', 'UK',\n",
              "       'Gibraltar', 'Greenland', 'Greece', 'Croatia', 'Hungary',\n",
              "       'Ireland', 'Iceland', 'Italy', 'Kosovo', 'Liechtenstein',\n",
              "       'Lithuania', 'Luxembourg', 'Latvia', 'Monaco', 'Moldova',\n",
              "       'Montenegro', 'Macedonia', 'Malta', 'Netherlands', 'Norway',\n",
              "       'Poland', 'Portugal', 'Romania', 'Serbia', 'Russia', 'Sweden',\n",
              "       'Slovenia', 'Slovakia', 'San Marino', 'USSR', 'Ukraine',\n",
              "       'Vatican City', 'Yugoslavia/Serbia and Montenegro', 'Americas',\n",
              "       'Antigua and Barbuda', 'Anguilla', 'Netherlands Antilles',\n",
              "       'Argentina', 'Aruba', 'Barbados', 'Bermuda', 'Bolivia', 'Brazil',\n",
              "       'Bahamas', 'Belize', 'Canada', 'Chile', 'Colombia', 'Costa Rica',\n",
              "       'Cuba', 'Curacao', 'Dominica', 'Dominican Republic', 'Ecuador',\n",
              "       'Falkland Islands', 'Grenada', 'French Guiana', 'Guadeloupe',\n",
              "       'South Georgia and the South Sandwich Islands', 'Guatemala',\n",
              "       'Guyana', 'Honduras', 'Haiti', 'Jamaica', 'St Kitts and Nevis',\n",
              "       'Cayman Islands', 'St Lucia', 'Martinique', 'Montserrat', 'Mexico',\n",
              "       'Nicaragua', 'Panama', 'Peru', 'St Pierre and Miquelon',\n",
              "       'Puerto Rico', 'Paraguay', 'Suriname', 'El Salvador', 'St Maarten',\n",
              "       'Turks and Caicos', 'Trinidad and Tobago',\n",
              "       'US Minor Outlying Islands', 'USA', 'Uruguay',\n",
              "       'St Vincent and the Grenadines', 'Venezuela',\n",
              "       'British Virgin Islands', 'US Virgin Islands',\n",
              "       'Africa and the Middle East', 'UAE', 'Angola', 'Burkina Faso',\n",
              "       'Bahrain', 'Burundi', 'Benin', 'Botswana',\n",
              "       'Democratic Republic of the Congo', 'Central African Republic',\n",
              "       'Congo', \"Cote d'Ivoire\", 'Cameroon', 'Cape Verde', 'Djibouti',\n",
              "       'Algeria', 'Egypt', 'Western Sahara', 'Eritrea', 'Ethiopia',\n",
              "       'Gabon', 'Ghana', 'Gambia', 'Guinea', 'Equatorial Guinea',\n",
              "       'Guinea-Bissau', 'Israel', 'British Indian Ocean Territory',\n",
              "       'Iraq', 'Iran', 'Jordan', 'Kenya', 'Comoros', 'Kuwait', 'Lebanon',\n",
              "       'Liberia', 'Lesotho', 'Libya', 'Morocco', 'Madagascar', 'Mali',\n",
              "       'Mauritania', 'Mauritius', 'Malawi', 'Mozambique', 'Namibia',\n",
              "       'Niger', 'Nigeria', 'Oman', 'Palestine', 'Qatar', 'Reunion',\n",
              "       'Rwanda', 'Saudi Arabia', 'Seychelles', 'Sudan', 'St Helena',\n",
              "       'Sierra Leone', 'Senegal', 'Somalia', 'South Sudan',\n",
              "       'Sao Tome and Principe', 'Syria', 'Swaziland', 'Chad', 'Togo',\n",
              "       'Tunisia', 'Turkey', 'Tanzania', 'Uganda', 'South Yemen', 'Yemen',\n",
              "       'Mayotte', 'South Africa', 'Zambia', 'Zimbabwe', 'Not stated',\n",
              "       'All countries'], dtype=object)"
            ]
          },
          "metadata": {},
          "execution_count": 11
        }
      ]
    },
    {
      "cell_type": "code",
      "source": [
        "data[\"Country\"].value_counts()"
      ],
      "metadata": {
        "colab": {
          "base_uri": "https://localhost:8080/"
        },
        "id": "6j8mYPI4Q5ox",
        "outputId": "efd32af9-1e78-40c7-e11c-f7972abfd5e5"
      },
      "execution_count": 22,
      "outputs": [
        {
          "output_type": "execute_result",
          "data": {
            "text/plain": [
              "Oceania              342\n",
              "US Virgin Islands    342\n",
              "Puerto Rico          342\n",
              "Paraguay             342\n",
              "Suriname             342\n",
              "                    ... \n",
              "Greece               342\n",
              "Croatia              342\n",
              "Hungary              342\n",
              "Ireland              342\n",
              "All countries        342\n",
              "Name: Country, Length: 253, dtype: int64"
            ]
          },
          "metadata": {},
          "execution_count": 22
        }
      ]
    },
    {
      "cell_type": "markdown",
      "source": [
        "Now we need to assign each unique string value its unique integer value:"
      ],
      "metadata": {
        "id": "E3EPdtpLLNUm"
      }
    },
    {
      "cell_type": "code",
      "source": [
        "data['CountryID'] = pd.factorize(data.Country)[0]\n",
        "data['CitID'] = pd.factorize(data.Citizenship)[0]"
      ],
      "metadata": {
        "id": "xsGszjzTLOmV"
      },
      "execution_count": 12,
      "outputs": []
    },
    {
      "cell_type": "markdown",
      "source": [
        "Now, let’s see if everything is okay:"
      ],
      "metadata": {
        "id": "2SoGoNEuLYub"
      }
    },
    {
      "cell_type": "code",
      "source": [
        "data['CountryID'].unique()"
      ],
      "metadata": {
        "colab": {
          "base_uri": "https://localhost:8080/"
        },
        "id": "Kk_jYPp_LZ8L",
        "outputId": "23c35108-adf0-4fca-9cc3-07e88fdf1553"
      },
      "execution_count": 14,
      "outputs": [
        {
          "output_type": "execute_result",
          "data": {
            "text/plain": [
              "array([  0,   1,   2,   3,   4,   5,   6,   7,   8,   9,  10,  11,  12,\n",
              "        13,  14,  15,  16,  17,  18,  19,  20,  21,  22,  23,  24,  25,\n",
              "        26,  27,  28,  29,  30,  31,  32,  33,  34,  35,  36,  37,  38,\n",
              "        39,  40,  41,  42,  43,  44,  45,  46,  47,  48,  49,  50,  51,\n",
              "        52,  53,  54,  55,  56,  57,  58,  59,  60,  61,  62,  63,  64,\n",
              "        65,  66,  67,  68,  69,  70,  71,  72,  73,  74,  75,  76,  77,\n",
              "        78,  79,  80,  81,  82,  83,  84,  85,  86,  87,  88,  89,  90,\n",
              "        91,  92,  93,  94,  95,  96,  97,  98,  99, 100, 101, 102, 103,\n",
              "       104, 105, 106, 107, 108, 109, 110, 111, 112, 113, 114, 115, 116,\n",
              "       117, 118, 119, 120, 121, 122, 123, 124, 125, 126, 127, 128, 129,\n",
              "       130, 131, 132, 133, 134, 135, 136, 137, 138, 139, 140, 141, 142,\n",
              "       143, 144, 145, 146, 147, 148, 149, 150, 151, 152, 153, 154, 155,\n",
              "       156, 157, 158, 159, 160, 161, 162, 163, 164, 165, 166, 167, 168,\n",
              "       169, 170, 171, 172, 173, 174, 175, 176, 177, 178, 179, 180, 181,\n",
              "       182, 183, 184, 185, 186, 187, 188, 189, 190, 191, 192, 193, 194,\n",
              "       195, 196, 197, 198, 199, 200, 201, 202, 203, 204, 205, 206, 207,\n",
              "       208, 209, 210, 211, 212, 213, 214, 215, 216, 217, 218, 219, 220,\n",
              "       221, 222, 223, 224, 225, 226, 227, 228, 229, 230, 231, 232, 233,\n",
              "       234, 235, 236, 237, 238, 239, 240, 241, 242, 243, 244, 245, 246,\n",
              "       247, 248, 249, 250, 251, 252])"
            ]
          },
          "metadata": {},
          "execution_count": 14
        }
      ]
    },
    {
      "cell_type": "markdown",
      "source": [
        "We had some missing values in our Value column and we can simply fill these missing values with the median values:"
      ],
      "metadata": {
        "id": "rjUHRxtAL7tj"
      }
    },
    {
      "cell_type": "code",
      "source": [
        "data[\"Value\"].fillna(data[\"Value\"].median(),inplace=True)"
      ],
      "metadata": {
        "id": "U4vTiqbYMSBK"
      },
      "execution_count": 16,
      "outputs": []
    },
    {
      "cell_type": "markdown",
      "source": [
        "Now, let’s see if everything is fine so far:"
      ],
      "metadata": {
        "id": "2wYbIG3pMWsB"
      }
    },
    {
      "cell_type": "code",
      "source": [
        "data.isnull().sum()"
      ],
      "metadata": {
        "colab": {
          "base_uri": "https://localhost:8080/"
        },
        "id": "hs9KltntMZkb",
        "outputId": "8bdf38c8-9c20-4163-99f8-14144a1a6714"
      },
      "execution_count": 17,
      "outputs": [
        {
          "output_type": "execute_result",
          "data": {
            "text/plain": [
              "Measure        0\n",
              "Country        0\n",
              "Citizenship    0\n",
              "Year           0\n",
              "Value          0\n",
              "CountryID      0\n",
              "CitID          0\n",
              "dtype: int64"
            ]
          },
          "metadata": {},
          "execution_count": 17
        }
      ]
    },
    {
      "cell_type": "markdown",
      "source": [
        "Now that we have been able to sort our dataset and perform some cleaning,we can further do basic summary statistics: Calculate the mean, median, mode, and range of the data to get a better understanding of the distribution of the migration data."
      ],
      "metadata": {
        "id": "Kx0Hj8kiNfqo"
      }
    },
    {
      "cell_type": "code",
      "source": [
        "print(data.describe())\n"
      ],
      "metadata": {
        "colab": {
          "base_uri": "https://localhost:8080/"
        },
        "id": "jq9qU8mWN5_H",
        "outputId": "e6bdf635-02b5-439a-ead9-25e145590c9d"
      },
      "execution_count": 18,
      "outputs": [
        {
          "output_type": "stream",
          "name": "stdout",
          "text": [
            "            Measure          Year          Value     CountryID         CitID\n",
            "count  86526.000000  86526.000000   86526.000000  86526.000000  86526.000000\n",
            "mean       1.000000   1997.500000     254.457389    126.000000      1.000000\n",
            "std        0.816501     10.965919    3122.313365     73.034661      0.816501\n",
            "min        0.000000   1979.000000  -42627.000000      0.000000      0.000000\n",
            "25%        0.000000   1988.000000       0.000000     63.000000      0.000000\n",
            "50%        1.000000   1997.500000       0.000000    126.000000      1.000000\n",
            "75%        2.000000   2007.000000       6.000000    189.000000      2.000000\n",
            "max        2.000000   2016.000000  127305.000000    252.000000      2.000000\n"
          ]
        }
      ]
    },
    {
      "cell_type": "code",
      "source": [
        "\n",
        "data.hist(bins=30, figsize=(20,15))\n",
        "plt.tight_layout()\n",
        "plt.show()\n",
        "\n",
        "data.plot(kind='box', subplots=True, layout=(3,3), sharex=False, sharey=False, figsize=(15,15))\n",
        "plt.show()\n"
      ],
      "metadata": {
        "colab": {
          "base_uri": "https://localhost:8080/",
          "height": 1000
        },
        "id": "Hw9W0UVxSBM_",
        "outputId": "faa0a68c-bfed-423b-8c71-e7c6a6ba871d"
      },
      "execution_count": 25,
      "outputs": [
        {
          "output_type": "display_data",
          "data": {
            "text/plain": [
              "<Figure size 1440x1080 with 6 Axes>"
            ],
            "image/png": "[encoded data removed]"
          },
          "metadata": {
            "needs_background": "light"
          }
        },
        {
          "output_type": "display_data",
          "data": {
            "text/plain": [
              "<Figure size 1080x1080 with 9 Axes>"
            ],
            "image/png": "[encoded data removed]"
          },
          "metadata": {
            "needs_background": "light"
          }
        }
      ]
    },
    {
      "cell_type": "markdown",
      "source": [
        "Correlation Matrix: we plot a correlation matrix to see if there are any strong correlations between variables in the data set."
      ],
      "metadata": {
        "id": "4oE0nhlqTff9"
      }
    },
    {
      "cell_type": "code",
      "source": [
        "corr = data.corr()\n",
        "sns.heatmap(corr, annot=True);\n"
      ],
      "metadata": {
        "colab": {
          "base_uri": "https://localhost:8080/",
          "height": 269
        },
        "id": "-omdrb-1S7P2",
        "outputId": "45ad1b2a-e703-49c7-ecc4-e26e6cc5c099"
      },
      "execution_count": 27,
      "outputs": [
        {
          "output_type": "display_data",
          "data": {
            "text/plain": [
              "<Figure size 432x288 with 2 Axes>"
            ],
            "image/png": "[encoded data removed]"
          },
          "metadata": {
            "needs_background": "light"
          }
        }
      ]
    },
    {
      "cell_type": "code",
      "source": [
        "# Let's make our correlation matrix a little prettier\n",
        "corr_matrix=data.corr()\n",
        "fig,ax=plt.subplots(figsize=(15,10))\n",
        "ax= sns.heatmap(corr_matrix,\n",
        "               annot=True,\n",
        "               linewidths=0.5,\n",
        "               fmt=\".2f\",\n",
        "               cmap=\"YlGnBu\");"
      ],
      "metadata": {
        "colab": {
          "base_uri": "https://localhost:8080/",
          "height": 596
        },
        "id": "5xxs0gkkTNEs",
        "outputId": "4f94d8fb-da44-4169-b77f-1117a4589eeb"
      },
      "execution_count": 28,
      "outputs": [
        {
          "output_type": "display_data",
          "data": {
            "text/plain": [
              "<Figure size 1080x720 with 2 Axes>"
            ],
            "image/png": "[encoded data removed]"
          },
          "metadata": {
            "needs_background": "light"
          }
        }
      ]
    },
    {
      "cell_type": "markdown",
      "source": [
        "## Modelling\n",
        "\n",
        "## Split The Data into Train and Test sets\n",
        "Now, I will split the data into 70 per cent training and 30 per cent test set:"
      ],
      "metadata": {
        "id": "CEENWxMyT8AM"
      }
    },
    {
      "cell_type": "code",
      "source": [
        "data.head()"
      ],
      "metadata": {
        "colab": {
          "base_uri": "https://localhost:8080/",
          "height": 206
        },
        "id": "P814_p0EUyQk",
        "outputId": "3dcf5b55-6c46-4041-e2e4-57e8ffd24449"
      },
      "execution_count": 30,
      "outputs": [
        {
          "output_type": "execute_result",
          "data": {
            "text/plain": [
              "   Measure  Year    Value  CountryID  CitID\n",
              "0        0  1979  11817.0          0      0\n",
              "1        0  1979   4436.0          0      1\n",
              "2        0  1979  19965.0          0      2\n",
              "3        0  1979     10.0          1      0\n",
              "4        0  1979      0.0          1      1"
            ],
            "text/html": [
              "\n",
              "  <div id=\"df-bf4fb9dd-1c10-4063-9903-162915bbd140\">\n",
              "    <div class=\"colab-df-container\">\n",
              "      <div>\n",
              "<style scoped>\n",
              "    .dataframe tbody tr th:only-of-type {\n",
              "        vertical-align: middle;\n",
              "    }\n",
              "\n",
              "    .dataframe tbody tr th {\n",
              "        vertical-align: top;\n",
              "    }\n",
              "\n",
              "    .dataframe thead th {\n",
              "        text-align: right;\n",
              "    }\n",
              "</style>\n",
              "<table border=\"1\" class=\"dataframe\">\n",
              "  <thead>\n",
              "    <tr style=\"text-align: right;\">\n",
              "      <th></th>\n",
              "      <th>Measure</th>\n",
              "      <th>Year</th>\n",
              "      <th>Value</th>\n",
              "      <th>CountryID</th>\n",
              "      <th>CitID</th>\n",
              "    </tr>\n",
              "  </thead>\n",
              "  <tbody>\n",
              "    <tr>\n",
              "      <th>0</th>\n",
              "      <td>0</td>\n",
              "      <td>1979</td>\n",
              "      <td>11817.0</td>\n",
              "      <td>0</td>\n",
              "      <td>0</td>\n",
              "    </tr>\n",
              "    <tr>\n",
              "      <th>1</th>\n",
              "      <td>0</td>\n",
              "      <td>1979</td>\n",
              "      <td>4436.0</td>\n",
              "      <td>0</td>\n",
              "      <td>1</td>\n",
              "    </tr>\n",
              "    <tr>\n",
              "      <th>2</th>\n",
              "      <td>0</td>\n",
              "      <td>1979</td>\n",
              "      <td>19965.0</td>\n",
              "      <td>0</td>\n",
              "      <td>2</td>\n",
              "    </tr>\n",
              "    <tr>\n",
              "      <th>3</th>\n",
              "      <td>0</td>\n",
              "      <td>1979</td>\n",
              "      <td>10.0</td>\n",
              "      <td>1</td>\n",
              "      <td>0</td>\n",
              "    </tr>\n",
              "    <tr>\n",
              "      <th>4</th>\n",
              "      <td>0</td>\n",
              "      <td>1979</td>\n",
              "      <td>0.0</td>\n",
              "      <td>1</td>\n",
              "      <td>1</td>\n",
              "    </tr>\n",
              "  </tbody>\n",
              "</table>\n",
              "</div>\n",
              "      <button class=\"colab-df-convert\" onclick=\"convertToInteractive('df-bf4fb9dd-1c10-4063-9903-162915bbd140')\"\n",
              "              title=\"Convert this dataframe to an interactive table.\"\n",
              "              style=\"display:none;\">\n",
              "        \n",
              "  <svg xmlns=\"http://www.w3.org/2000/svg\" height=\"24px\"viewBox=\"0 0 24 24\"\n",
              "       width=\"24px\">\n",
              "    <path d=\"M0 0h24v24H0V0z\" fill=\"none\"/>\n",
              "    <path d=\"M18.56 5.44l.94 2.06.94-2.06 2.06-.94-2.06-.94-.94-2.06-.94 2.06-2.06.94zm-11 1L8.5 8.5l.94-2.06 2.06-.94-2.06-.94L8.5 2.5l-.94 2.06-2.06.94zm10 10l.94 2.06.94-2.06 2.06-.94-2.06-.94-.94-2.06-.94 2.06-2.06.94z\"/><path d=\"M17.41 7.96l-1.37-1.37c-.4-.4-.92-.59-1.43-.59-.52 0-1.04.2-1.43.59L10.3 9.45l-7.72 7.72c-.78.78-.78 2.05 0 2.83L4 21.41c.39.39.9.59 1.41.59.51 0 1.02-.2 1.41-.59l7.78-7.78 2.81-2.81c.8-.78.8-2.07 0-2.86zM5.41 20L4 18.59l7.72-7.72 1.47 1.35L5.41 20z\"/>\n",
              "  </svg>\n",
              "      </button>\n",
              "      \n",
              "  <style>\n",
              "    .colab-df-container {\n",
              "      display:flex;\n",
              "      flex-wrap:wrap;\n",
              "      gap: 12px;\n",
              "    }\n",
              "\n",
              "    .colab-df-convert {\n",
              "      background-color: #E8F0FE;\n",
              "      border: none;\n",
              "      border-radius: 50%;\n",
              "      cursor: pointer;\n",
              "      display: none;\n",
              "      fill: #1967D2;\n",
              "      height: 32px;\n",
              "      padding: 0 0 0 0;\n",
              "      width: 32px;\n",
              "    }\n",
              "\n",
              "    .colab-df-convert:hover {\n",
              "      background-color: #E2EBFA;\n",
              "      box-shadow: 0px 1px 2px rgba(60, 64, 67, 0.3), 0px 1px 3px 1px rgba(60, 64, 67, 0.15);\n",
              "      fill: #174EA6;\n",
              "    }\n",
              "\n",
              "    [theme=dark] .colab-df-convert {\n",
              "      background-color: #3B4455;\n",
              "      fill: #D2E3FC;\n",
              "    }\n",
              "\n",
              "    [theme=dark] .colab-df-convert:hover {\n",
              "      background-color: #434B5C;\n",
              "      box-shadow: 0px 1px 3px 1px rgba(0, 0, 0, 0.15);\n",
              "      filter: drop-shadow(0px 1px 2px rgba(0, 0, 0, 0.3));\n",
              "      fill: #FFFFFF;\n",
              "    }\n",
              "  </style>\n",
              "\n",
              "      <script>\n",
              "        const buttonEl =\n",
              "          document.querySelector('#df-bf4fb9dd-1c10-4063-9903-162915bbd140 button.colab-df-convert');\n",
              "        buttonEl.style.display =\n",
              "          google.colab.kernel.accessAllowed ? 'block' : 'none';\n",
              "\n",
              "        async function convertToInteractive(key) {\n",
              "          const element = document.querySelector('#df-bf4fb9dd-1c10-4063-9903-162915bbd140');\n",
              "          const dataTable =\n",
              "            await google.colab.kernel.invokeFunction('convertToInteractive',\n",
              "                                                     [key], {});\n",
              "          if (!dataTable) return;\n",
              "\n",
              "          const docLinkHtml = 'Like what you see? Visit the ' +\n",
              "            '<a target=\"_blank\" href=https://colab.research.google.com/notebooks/data_table.ipynb>data table notebook</a>'\n",
              "            + ' to learn more about interactive tables.';\n",
              "          element.innerHTML = '';\n",
              "          dataTable['output_type'] = 'display_data';\n",
              "          await google.colab.output.renderOutput(dataTable, element);\n",
              "          const docLink = document.createElement('div');\n",
              "          docLink.innerHTML = docLinkHtml;\n",
              "          element.appendChild(docLink);\n",
              "        }\n",
              "      </script>\n",
              "    </div>\n",
              "  </div>\n",
              "  "
            ]
          },
          "metadata": {},
          "execution_count": 30
        }
      ]
    },
    {
      "cell_type": "code",
      "source": [
        "X= data[['CountryID','Measure','Year','CitID']]\n",
        "Y= data['Value']\n",
        "X_train, X_test, y_train, y_test = train_test_split(\n",
        "  X, Y, test_size=0.3, random_state=42)"
      ],
      "metadata": {
        "id": "w7A1o-MQUApc"
      },
      "execution_count": 33,
      "outputs": []
    },
    {
      "cell_type": "markdown",
      "source": [
        "## Predict Migration\n",
        "Now, let’s predict migration using our Machine Learning algorithm and visualize the results:"
      ],
      "metadata": {
        "id": "Jb3-FXhXVQVc"
      }
    },
    {
      "cell_type": "code",
      "source": [
        "from sklearn.ensemble import RandomForestRegressor\n",
        "rf = RandomForestRegressor(n_estimators=70,max_features = 3,max_depth=5,n_jobs=-1)\n",
        "rf.fit(X_train ,y_train)\n",
        "rf.score(X_test, y_test)"
      ],
      "metadata": {
        "colab": {
          "base_uri": "https://localhost:8080/"
        },
        "id": "j2yCkoq-VTXC",
        "outputId": "e3520c75-d854-40be-e4a3-2bef83ba7460"
      },
      "execution_count": 34,
      "outputs": [
        {
          "output_type": "execute_result",
          "data": {
            "text/plain": [
              "0.7378980268362672"
            ]
          },
          "metadata": {},
          "execution_count": 34
        }
      ]
    },
    {
      "cell_type": "code",
      "source": [
        "X = data[['CountryID','Measure','Year','CitID']]\n",
        "Y = data['Value']\n",
        "X_train, X_test, y_train, y_test = train_test_split(\n",
        "  X, Y, test_size=0.3, random_state=9)\n",
        "grouped = data.groupby(['Year']).aggregate({'Value' : 'sum'})\n",
        "\n",
        "\n",
        "#Growth of migration to New-Zeland by year\n",
        "grouped.plot(kind='line');plt.axhline(0, color='g')\n",
        "plt.show()"
      ],
      "metadata": {
        "colab": {
          "base_uri": "https://localhost:8080/",
          "height": 290
        },
        "id": "SpnA_X4iVqcR",
        "outputId": "2f063a3a-b619-4b1d-dc12-2174af781529"
      },
      "execution_count": 36,
      "outputs": [
        {
          "output_type": "display_data",
          "data": {
            "text/plain": [
              "<Figure size 432x288 with 1 Axes>"
            ],
            "image/png": "[encoded data removed]"
          },
          "metadata": {
            "needs_background": "light"
          }
        }
      ]
    },
    {
      "cell_type": "markdown",
      "source": [
        "We can observe that there has been a trend of increasing migration to New Zealand from 1980 to 2015, as evidenced by a growth in the migration population"
      ],
      "metadata": {
        "id": "7VkaVTz8WC8K"
      }
    },
    {
      "cell_type": "code",
      "source": [
        "grouped.plot(kind='bar');plt.axhline(0, color='g')\n",
        "plt.show()"
      ],
      "metadata": {
        "colab": {
          "base_uri": "https://localhost:8080/",
          "height": 306
        },
        "id": "NUKivgoAWl5A",
        "outputId": "dca8506e-3050-42c1-e127-18c4c5ea8ae7"
      },
      "execution_count": 38,
      "outputs": [
        {
          "output_type": "display_data",
          "data": {
            "text/plain": [
              "<Figure size 432x288 with 1 Axes>"
            ],
            "image/png": "[encoded data removed]"
          },
          "metadata": {
            "needs_background": "light"
          }
        }
      ]
    },
    {
      "cell_type": "code",
      "source": [
        "corr = data.corr()\n",
        "sns.heatmap(corr, \n",
        "            xticklabels=corr.columns.values,\n",
        "            yticklabels=corr.columns.values)\n",
        "plt.show()"
      ],
      "metadata": {
        "colab": {
          "base_uri": "https://localhost:8080/",
          "height": 269
        },
        "id": "IAUgjT_PXQBe",
        "outputId": "0ae78b52-7a39-44f7-b73c-6e18d5be7053"
      },
      "execution_count": 39,
      "outputs": [
        {
          "output_type": "display_data",
          "data": {
            "text/plain": [
              "<Figure size 432x288 with 2 Axes>"
            ],
            "image/png": "[encoded data removed]"
          },
          "metadata": {
            "needs_background": "light"
          }
        }
      ]
    },
    {
      "cell_type": "markdown",
      "source": [
        "## Hyperparameter tuning"
      ],
      "metadata": {
        "id": "ff31USqhYexL"
      }
    },
    {
      "cell_type": "code",
      "source": [
        "from sklearn.model_selection import GridSearchCV\n",
        "param_grid = {\n",
        "    'n_estimators': [50, 60, 70, 80, 90],\n",
        "    'max_depth': [3, 4, 5, 6, 7],\n",
        "    'max_features': [2, 3, 4],\n",
        "}\n",
        "rf = RandomForestRegressor(n_jobs=-1)\n",
        "grid_search = GridSearchCV(estimator=rf, param_grid=param_grid, cv=5)\n",
        "grid_search.fit(X_train, y_train)\n",
        "print(\"Best parameters: \", grid_search.best_params_)\n",
        "print(\"Best score: \", grid_search.best_score_)\n"
      ],
      "metadata": {
        "colab": {
          "base_uri": "https://localhost:8080/"
        },
        "id": "d1Sn6tduYikk",
        "outputId": "454212c3-1baa-4ea4-ac06-1d85bb7acde6"
      },
      "execution_count": 40,
      "outputs": [
        {
          "output_type": "stream",
          "name": "stdout",
          "text": [
            "Best parameters:  {'max_depth': 7, 'max_features': 4, 'n_estimators': 70}\n",
            "Best score:  0.8294777234763933\n"
          ]
        }
      ]
    },
    {
      "cell_type": "code",
      "source": [
        "grid_search.score(X_test,y_test)"
      ],
      "metadata": {
        "colab": {
          "base_uri": "https://localhost:8080/"
        },
        "id": "kHD9xXCtdSeT",
        "outputId": "81eb2dac-c0ee-497b-ea3b-ae47ba3284f5"
      },
      "execution_count": 42,
      "outputs": [
        {
          "output_type": "execute_result",
          "data": {
            "text/plain": [
              "0.832435177007042"
            ]
          },
          "metadata": {},
          "execution_count": 42
        }
      ]
    },
    {
      "cell_type": "markdown",
      "source": [
        "our model score now has improved from 0.7378980268362672 to 0.8294777234763933.Now let us compare with RandomizedSearchCV."
      ],
      "metadata": {
        "id": "ULmoCw7QancQ"
      }
    },
    {
      "cell_type": "code",
      "source": [
        "from sklearn.model_selection import RandomizedSearchCV\n",
        "from scipy.stats import randint\n",
        "param_dist = {\n",
        "    'n_estimators': randint(50, 100),\n",
        "    'max_depth': randint(3, 8),\n",
        "    'max_features': randint(2, 5),\n",
        "}\n",
        "rf = RandomForestRegressor(n_jobs=-1)\n",
        "random_search = RandomizedSearchCV(estimator=rf, param_distributions=param_dist, n_iter=10, cv=5)\n",
        "random_search.fit(X_train, y_train)\n",
        "print(\"Best parameters: \", random_search.best_params_)\n",
        "print(\"Best score: \", random_search.best_score_)\n"
      ],
      "metadata": {
        "colab": {
          "base_uri": "https://localhost:8080/"
        },
        "id": "JM_83T3vbJ-O",
        "outputId": "c73ea656-8689-43b4-bb9e-e53abee35e00"
      },
      "execution_count": 41,
      "outputs": [
        {
          "output_type": "stream",
          "name": "stdout",
          "text": [
            "Best parameters:  {'max_depth': 6, 'max_features': 3, 'n_estimators': 63}\n",
            "Best score:  0.7918669730169257\n"
          ]
        }
      ]
    },
    {
      "cell_type": "code",
      "source": [
        "random_search.score(X_test,y_test)"
      ],
      "metadata": {
        "colab": {
          "base_uri": "https://localhost:8080/"
        },
        "id": "DOYjDv3edmhi",
        "outputId": "308e9fca-4215-49e9-f7c9-b27eb97297e2"
      },
      "execution_count": 43,
      "outputs": [
        {
          "output_type": "execute_result",
          "data": {
            "text/plain": [
              "0.7908453710510667"
            ]
          },
          "metadata": {},
          "execution_count": 43
        }
      ]
    },
    {
      "cell_type": "markdown",
      "source": [
        "## Conclusion\n",
        "Hyperparameter tuning by GridSearchCV gives us the best outcome.\n",
        "It can be concluded that the use of machine learning algorithms has proven to be an effective approach for predicting human migrations. In this project, a machine learning model was developed and optimized using hyperparameter tuning to predict migration patterns. The final model, after hyperparameter tuning, achieved a score of 0.832435177007042 on the test data, which indicates that the model is performing well and is able to make accurate predictions about migration patterns.\n",
        "\n",
        "This result highlights the potential of machine learning in addressing complex problems in the field of migration, and provides valuable insights for city planning, international trade, disease control, conservation efforts, and public policy making. The results of this project can be used as a starting point for further research and development in the area of migration prediction."
      ],
      "metadata": {
        "id": "XoWX5Fdub5Yw"
      }
    }
  ]
}