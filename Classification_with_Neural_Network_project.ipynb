{
  "nbformat": 4,
  "nbformat_minor": 0,
  "metadata": {
    "colab": {
      "provenance": []
    },
    "kernelspec": {
      "name": "python3",
      "display_name": "Python 3"
    },
    "language_info": {
      "name": "python"
    }
  },
  "cells": [
    {
      "cell_type": "markdown",
      "source": [
        "In machine learning, classification involves categorizing known classes. For instance, one could differentiate between the most profitable and non-interested customers from a dataset for the purpose of advertising a particular product. This process of classification can be used to gain valuable insights into customer behavior and preferences, allowing businesses to tailor their marketing strategies accordingly."
      ],
      "metadata": {
        "id": "1ly0Th44Wn1Y"
      }
    },
    {
      "cell_type": "markdown",
      "source": [
        "## Problem Definition\n",
        "Classification is the process of categorizing known classes based on their features. In most classification problems, machine learning algorithms are used to complete the task; however, when classifying a large dataset of images, a neural network is necessary. In this project, I will go  through the process of image classification with a neural network using Python. We will be using the renowned MNIST fashion dataset, which contains 70,000 clothing fashion images. Our goal is to train an image classification model with neural networks.\n"
      ],
      "metadata": {
        "id": "LyObFat0X65M"
      }
    },
    {
      "cell_type": "markdown",
      "source": [
        "I will start this task by importing the necessary Python libraries and the dataset:"
      ],
      "metadata": {
        "id": "Uo-AcXUWZWYU"
      }
    },
    {
      "cell_type": "code",
      "execution_count": 1,
      "metadata": {
        "colab": {
          "base_uri": "https://localhost:8080/"
        },
        "id": "dKBenGVnVWN_",
        "outputId": "758c219c-4933-423c-952e-bdc6cdbf6dda"
      },
      "outputs": [
        {
          "output_type": "stream",
          "name": "stdout",
          "text": [
            "Downloading data from https://storage.googleapis.com/tensorflow/tf-keras-datasets/train-labels-idx1-ubyte.gz\n",
            "29515/29515 [==============================] - 0s 0us/step\n",
            "Downloading data from https://storage.googleapis.com/tensorflow/tf-keras-datasets/train-images-idx3-ubyte.gz\n",
            "26421880/26421880 [==============================] - 0s 0us/step\n",
            "Downloading data from https://storage.googleapis.com/tensorflow/tf-keras-datasets/t10k-labels-idx1-ubyte.gz\n",
            "5148/5148 [==============================] - 0s 0us/step\n",
            "Downloading data from https://storage.googleapis.com/tensorflow/tf-keras-datasets/t10k-images-idx3-ubyte.gz\n",
            "4422102/4422102 [==============================] - 0s 0us/step\n"
          ]
        }
      ],
      "source": [
        "import tensorflow as tf\n",
        "from tensorflow import keras\n",
        "import numpy as np\n",
        "import matplotlib.pyplot as plt\n",
        "fashion = keras.datasets.fashion_mnist\n",
        "(xtrain, ytrain), (xtest, ytest) = fashion.load_data()"
      ]
    },
    {
      "cell_type": "markdown",
      "source": [
        "Before moving forward, let’s have a quick look at one of the samples of the images from the dataset:"
      ],
      "metadata": {
        "id": "Vf0Jd5-7Zbak"
      }
    },
    {
      "cell_type": "code",
      "source": [
        "imgIndex = 9\n",
        "image = xtrain[imgIndex]\n",
        "print(\"Image Label :\",ytrain[imgIndex])\n",
        "plt.imshow(image);"
      ],
      "metadata": {
        "colab": {
          "base_uri": "https://localhost:8080/",
          "height": 282
        },
        "id": "PNZP7J-NZdoQ",
        "outputId": "b65494c3-2947-4bbd-f424-84fb7b478e93"
      },
      "execution_count": 3,
      "outputs": [
        {
          "output_type": "stream",
          "name": "stdout",
          "text": [
            "Image Label : 5\n"
          ]
        },
        {
          "output_type": "display_data",
          "data": {
            "text/plain": [
              "<Figure size 432x288 with 1 Axes>"
            ],
            "image/png": "[encoded data removed]"
          },
          "metadata": {
            "needs_background": "light"
          }
        }
      ]
    },
    {
      "cell_type": "markdown",
      "source": [
        "Now let’s have a look at the shape of both the training and test data:"
      ],
      "metadata": {
        "id": "UWnV3ncwZwdB"
      }
    },
    {
      "cell_type": "code",
      "source": [
        "print(xtrain.shape)\n",
        "print(xtest.shape)"
      ],
      "metadata": {
        "colab": {
          "base_uri": "https://localhost:8080/"
        },
        "id": "F5aFX0-iZ-6M",
        "outputId": "bdf068f6-b21f-46b8-aea5-4ee7018719cf"
      },
      "execution_count": 4,
      "outputs": [
        {
          "output_type": "stream",
          "name": "stdout",
          "text": [
            "(60000, 28, 28)\n",
            "(10000, 28, 28)\n"
          ]
        }
      ]
    },
    {
      "cell_type": "markdown",
      "source": [
        "## Building a Neural Network \n",
        "Now I will build a neural network architecture with two hidden layers:"
      ],
      "metadata": {
        "id": "p7JEuBz_aRQl"
      }
    },
    {
      "cell_type": "code",
      "source": [
        "model = keras.models.Sequential([\n",
        "    keras.layers.Flatten(input_shape=[28, 28]),\n",
        "    keras.layers.Dense(300, activation=\"relu\"),\n",
        "    keras.layers.Dense(100, activation=\"relu\"),\n",
        "    keras.layers.Dense(10, activation=\"softmax\")\n",
        "])\n",
        "print(model.summary())"
      ],
      "metadata": {
        "colab": {
          "base_uri": "https://localhost:8080/"
        },
        "id": "0MunKCoRaexj",
        "outputId": "ea602c33-6779-461d-f1ed-9caf939c7ad4"
      },
      "execution_count": 5,
      "outputs": [
        {
          "output_type": "stream",
          "name": "stdout",
          "text": [
            "Model: \"sequential\"\n",
            "_________________________________________________________________\n",
            " Layer (type)                Output Shape              Param #   \n",
            "=================================================================\n",
            " flatten (Flatten)           (None, 784)               0         \n",
            "                                                                 \n",
            " dense (Dense)               (None, 300)               235500    \n",
            "                                                                 \n",
            " dense_1 (Dense)             (None, 100)               30100     \n",
            "                                                                 \n",
            " dense_2 (Dense)             (None, 10)                1010      \n",
            "                                                                 \n",
            "=================================================================\n",
            "Total params: 266,610\n",
            "Trainable params: 266,610\n",
            "Non-trainable params: 0\n",
            "_________________________________________________________________\n",
            "None\n"
          ]
        }
      ]
    },
    {
      "cell_type": "markdown",
      "source": [
        "Before training our model, I will split the training data into training and validation sets:"
      ],
      "metadata": {
        "id": "U6e0n86qax48"
      }
    },
    {
      "cell_type": "code",
      "source": [
        "xvalid, xtrain = xtrain[:5000]/255.0, xtrain[5000:]/255.0\n",
        "yvalid, ytrain = ytrain[:5000], ytrain[5000:]"
      ],
      "metadata": {
        "id": "_uZXE4Z2a2BN"
      },
      "execution_count": 6,
      "outputs": []
    },
    {
      "cell_type": "markdown",
      "source": [
        "## Training a Classification Model with Neural Networks\n"
      ],
      "metadata": {
        "id": "pCzEgLZhbDF3"
      }
    },
    {
      "cell_type": "code",
      "source": [
        "model.compile(loss=\"sparse_categorical_crossentropy\",\n",
        "              optimizer=\"sgd\",\n",
        "              metrics=[\"accuracy\"])\n",
        "history = model.fit(xtrain, ytrain, epochs=30, \n",
        "                    validation_data=(xvalid, yvalid))"
      ],
      "metadata": {
        "colab": {
          "base_uri": "https://localhost:8080/"
        },
        "id": "Nx4N2he_bXGc",
        "outputId": "b589b685-f80e-400c-a1d3-689d015ae584"
      },
      "execution_count": 7,
      "outputs": [
        {
          "output_type": "stream",
          "name": "stdout",
          "text": [
            "Epoch 1/30\n",
            "1719/1719 [==============================] - 11s 5ms/step - loss: 0.7141 - accuracy: 0.7653 - val_loss: 0.5065 - val_accuracy: 0.8288\n",
            "Epoch 2/30\n",
            "1719/1719 [==============================] - 6s 4ms/step - loss: 0.4879 - accuracy: 0.8294 - val_loss: 0.4393 - val_accuracy: 0.8518\n",
            "Epoch 3/30\n",
            "1719/1719 [==============================] - 7s 4ms/step - loss: 0.4387 - accuracy: 0.8467 - val_loss: 0.4095 - val_accuracy: 0.8650\n",
            "Epoch 4/30\n",
            "1719/1719 [==============================] - 7s 4ms/step - loss: 0.4103 - accuracy: 0.8569 - val_loss: 0.4518 - val_accuracy: 0.8328\n",
            "Epoch 5/30\n",
            "1719/1719 [==============================] - 7s 4ms/step - loss: 0.3904 - accuracy: 0.8633 - val_loss: 0.4197 - val_accuracy: 0.8488\n",
            "Epoch 6/30\n",
            "1719/1719 [==============================] - 7s 4ms/step - loss: 0.3744 - accuracy: 0.8683 - val_loss: 0.3618 - val_accuracy: 0.8748\n",
            "Epoch 7/30\n",
            "1719/1719 [==============================] - 7s 4ms/step - loss: 0.3609 - accuracy: 0.8732 - val_loss: 0.3495 - val_accuracy: 0.8784\n",
            "Epoch 8/30\n",
            "1719/1719 [==============================] - 7s 4ms/step - loss: 0.3499 - accuracy: 0.8752 - val_loss: 0.3474 - val_accuracy: 0.8796\n",
            "Epoch 9/30\n",
            "1719/1719 [==============================] - 7s 4ms/step - loss: 0.3391 - accuracy: 0.8798 - val_loss: 0.3488 - val_accuracy: 0.8814\n",
            "Epoch 10/30\n",
            "1719/1719 [==============================] - 7s 4ms/step - loss: 0.3301 - accuracy: 0.8826 - val_loss: 0.3389 - val_accuracy: 0.8838\n",
            "Epoch 11/30\n",
            "1719/1719 [==============================] - 7s 4ms/step - loss: 0.3220 - accuracy: 0.8857 - val_loss: 0.3383 - val_accuracy: 0.8802\n",
            "Epoch 12/30\n",
            "1719/1719 [==============================] - 7s 4ms/step - loss: 0.3142 - accuracy: 0.8887 - val_loss: 0.3400 - val_accuracy: 0.8842\n",
            "Epoch 13/30\n",
            "1719/1719 [==============================] - 7s 4ms/step - loss: 0.3079 - accuracy: 0.8898 - val_loss: 0.3445 - val_accuracy: 0.8810\n",
            "Epoch 14/30\n",
            "1719/1719 [==============================] - 7s 4ms/step - loss: 0.3004 - accuracy: 0.8921 - val_loss: 0.3157 - val_accuracy: 0.8916\n",
            "Epoch 15/30\n",
            "1719/1719 [==============================] - 6s 4ms/step - loss: 0.2946 - accuracy: 0.8946 - val_loss: 0.3119 - val_accuracy: 0.8930\n",
            "Epoch 16/30\n",
            "1719/1719 [==============================] - 9s 5ms/step - loss: 0.2881 - accuracy: 0.8973 - val_loss: 0.3095 - val_accuracy: 0.8940\n",
            "Epoch 17/30\n",
            "1719/1719 [==============================] - 9s 5ms/step - loss: 0.2828 - accuracy: 0.8976 - val_loss: 0.3227 - val_accuracy: 0.8852\n",
            "Epoch 18/30\n",
            "1719/1719 [==============================] - 7s 4ms/step - loss: 0.2768 - accuracy: 0.9006 - val_loss: 0.3096 - val_accuracy: 0.8926\n",
            "Epoch 19/30\n",
            "1719/1719 [==============================] - 7s 4ms/step - loss: 0.2711 - accuracy: 0.9029 - val_loss: 0.3057 - val_accuracy: 0.8914\n",
            "Epoch 20/30\n",
            "1719/1719 [==============================] - 7s 4ms/step - loss: 0.2674 - accuracy: 0.9043 - val_loss: 0.3064 - val_accuracy: 0.8906\n",
            "Epoch 21/30\n",
            "1719/1719 [==============================] - 7s 4ms/step - loss: 0.2615 - accuracy: 0.9059 - val_loss: 0.3075 - val_accuracy: 0.8906\n",
            "Epoch 22/30\n",
            "1719/1719 [==============================] - 7s 4ms/step - loss: 0.2567 - accuracy: 0.9079 - val_loss: 0.3031 - val_accuracy: 0.8916\n",
            "Epoch 23/30\n",
            "1719/1719 [==============================] - 9s 5ms/step - loss: 0.2527 - accuracy: 0.9093 - val_loss: 0.3084 - val_accuracy: 0.8902\n",
            "Epoch 24/30\n",
            "1719/1719 [==============================] - 9s 5ms/step - loss: 0.2487 - accuracy: 0.9106 - val_loss: 0.3164 - val_accuracy: 0.8906\n",
            "Epoch 25/30\n",
            "1719/1719 [==============================] - 7s 4ms/step - loss: 0.2438 - accuracy: 0.9131 - val_loss: 0.2987 - val_accuracy: 0.8954\n",
            "Epoch 26/30\n",
            "1719/1719 [==============================] - 7s 4ms/step - loss: 0.2400 - accuracy: 0.9137 - val_loss: 0.2955 - val_accuracy: 0.8944\n",
            "Epoch 27/30\n",
            "1719/1719 [==============================] - 8s 4ms/step - loss: 0.2366 - accuracy: 0.9159 - val_loss: 0.2999 - val_accuracy: 0.8922\n",
            "Epoch 28/30\n",
            "1719/1719 [==============================] - 8s 5ms/step - loss: 0.2322 - accuracy: 0.9171 - val_loss: 0.3032 - val_accuracy: 0.8900\n",
            "Epoch 29/30\n",
            "1719/1719 [==============================] - 7s 4ms/step - loss: 0.2278 - accuracy: 0.9177 - val_loss: 0.2963 - val_accuracy: 0.8958\n",
            "Epoch 30/30\n",
            "1719/1719 [==============================] - 7s 4ms/step - loss: 0.2251 - accuracy: 0.9204 - val_loss: 0.2916 - val_accuracy: 0.8966\n"
          ]
        }
      ]
    },
    {
      "cell_type": "markdown",
      "source": [
        "Now let’s have a look at the predictions:"
      ],
      "metadata": {
        "id": "Cy9EeZZmb1Ts"
      }
    },
    {
      "cell_type": "code",
      "source": [
        "new = xtest[:10]\n",
        "predictions = model.predict(new)\n",
        "print(predictions)"
      ],
      "metadata": {
        "colab": {
          "base_uri": "https://localhost:8080/"
        },
        "id": "gQiH-5ElbzXh",
        "outputId": "45198d9c-3570-488e-a0a9-f0dd028a9032"
      },
      "execution_count": 8,
      "outputs": [
        {
          "output_type": "stream",
          "name": "stdout",
          "text": [
            "1/1 [==============================] - 0s 134ms/step\n",
            "[[0.         0.         0.         0.         0.         0.\n",
            "  0.         0.         0.         0.99999994]\n",
            " [0.         0.         0.99999994 0.         0.         0.\n",
            "  0.         0.         0.         0.        ]\n",
            " [0.         0.99999994 0.         0.         0.         0.\n",
            "  0.         0.         0.         0.        ]\n",
            " [0.         0.99999994 0.         0.         0.         0.\n",
            "  0.         0.         0.         0.        ]\n",
            " [0.         0.         0.         0.         0.         0.\n",
            "  0.99999994 0.         0.         0.        ]\n",
            " [0.         0.99999994 0.         0.         0.         0.\n",
            "  0.         0.         0.         0.        ]\n",
            " [0.         0.         0.         0.         0.99999994 0.\n",
            "  0.         0.         0.         0.        ]\n",
            " [0.         0.         0.         0.         0.         0.\n",
            "  0.99999994 0.         0.         0.        ]\n",
            " [0.         0.         0.         0.         0.         1.\n",
            "  0.         0.         0.         0.        ]\n",
            " [0.         0.         0.         0.         0.         0.\n",
            "  0.         1.         0.         0.        ]]\n"
          ]
        }
      ]
    },
    {
      "cell_type": "markdown",
      "source": [
        "Here is how we can look at the predicted classes:"
      ],
      "metadata": {
        "id": "QzBtO9jIcHll"
      }
    },
    {
      "cell_type": "code",
      "source": [
        "classes = np.argmax(predictions, axis=1)\n",
        "print(classes)"
      ],
      "metadata": {
        "colab": {
          "base_uri": "https://localhost:8080/"
        },
        "id": "OGO0jQlNcI4d",
        "outputId": "b8170739-e2c2-421d-cdd1-94648240d795"
      },
      "execution_count": 9,
      "outputs": [
        {
          "output_type": "stream",
          "name": "stdout",
          "text": [
            "[9 2 1 1 6 1 4 6 5 7]\n"
          ]
        }
      ]
    },
    {
      "cell_type": "markdown",
      "source": [
        "So this is how you can train a classification model with neural networks"
      ],
      "metadata": {
        "id": "dfKlW6vkciQc"
      }
    }
  ]
}