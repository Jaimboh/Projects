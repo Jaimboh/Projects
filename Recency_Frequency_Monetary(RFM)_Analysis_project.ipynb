{
  "nbformat": 4,
  "nbformat_minor": 0,
  "metadata": {
    "colab": {
      "provenance": []
    },
    "kernelspec": {
      "name": "python3",
      "display_name": "Python 3"
    },
    "language_info": {
      "name": "python"
    }
  },
  "cells": [
    {
      "cell_type": "markdown",
      "source": [
        "## Problem Statement\n",
        "The RFM analysis, a marketing technique that determines the best customers based on recency, frequency, and monetary, lacks a standardized and automated method for quantifying customer behavior and generating insights for businesses. This leads to manual calculation and interpretation of customer data, increasing the likelihood of errors and hindering effective decision-making,and that is we want to try to solve by the end of this project"
      ],
      "metadata": {
        "id": "9giGeKFVre4P"
      }
    },
    {
      "cell_type": "markdown",
      "source": [
        "## Data\n",
        "We are doing  an RFM analysis using retail data. It contains customer-level data on transactions by date. It is  obtained information on responses to a promotional campaign conducted by an organization.The dataset, we are using in this task can be downloaded from here:https://github.com/amankharwal/Website-data/blob/master/retail%20data.rar"
      ],
      "metadata": {
        "id": "WscLD97k7FKc"
      }
    },
    {
      "cell_type": "markdown",
      "source": [
        "## Importing the necessary libraries"
      ],
      "metadata": {
        "id": "wUCAif687t4A"
      }
    },
    {
      "cell_type": "code",
      "execution_count": 1,
      "metadata": {
        "id": "g6j33PbTghCe"
      },
      "outputs": [],
      "source": [
        "import pandas as pd\n",
        "import datetime as dt\n",
        "import numpy as np\n",
        "import matplotlib.pyplot as plt"
      ]
    },
    {
      "cell_type": "markdown",
      "source": [
        "## Loading the data"
      ],
      "metadata": {
        "id": "xlrl_d5C7-SB"
      }
    },
    {
      "cell_type": "code",
      "source": [
        "df = pd.read_csv('/content/drive/MyDrive/filename/Retail_Data_Transactions.csv', parse_dates=['trans_date'])"
      ],
      "metadata": {
        "id": "AZXBu5h58BCT"
      },
      "execution_count": 2,
      "outputs": []
    },
    {
      "cell_type": "markdown",
      "source": [
        "Suppose the study is performed from 01 / April / 2015. We will identify the oldest and most recent transaction dates:"
      ],
      "metadata": {
        "id": "8zdiHcCb9aHZ"
      }
    },
    {
      "cell_type": "code",
      "source": [
        "print(df['trans_date'].min(), df['trans_date'].max())"
      ],
      "metadata": {
        "colab": {
          "base_uri": "https://localhost:8080/"
        },
        "id": "-pcaRjjv9dOn",
        "outputId": "51d122e0-9cb3-4244-b525-3156c35a975e"
      },
      "execution_count": 3,
      "outputs": [
        {
          "output_type": "stream",
          "name": "stdout",
          "text": [
            "2011-05-16 00:00:00 2015-03-16 00:00:00\n"
          ]
        }
      ]
    },
    {
      "cell_type": "markdown",
      "source": [
        "we can try and get the number of days from the date of the study"
      ],
      "metadata": {
        "id": "isHUKvFT9qcn"
      }
    },
    {
      "cell_type": "code",
      "source": [
        "sd = dt.datetime(2015,4,1)\n",
        "df['hist']=sd - df['trans_date']\n",
        "df['hist'].astype('timedelta64[D]')\n",
        "df['hist']=df['hist'] / np.timedelta64(1, 'D')"
      ],
      "metadata": {
        "id": "Sfw6grsg9-U4"
      },
      "execution_count": 4,
      "outputs": []
    },
    {
      "cell_type": "markdown",
      "source": [
        "Only transactions carried out in the last 2 years are taken into account for our RFM analysis:"
      ],
      "metadata": {
        "id": "2MW-DzzO-I5O"
      }
    },
    {
      "cell_type": "code",
      "source": [
        "df=df[df['hist'] < 730]"
      ],
      "metadata": {
        "id": "1rBRJ4bS-L7N"
      },
      "execution_count": 5,
      "outputs": []
    },
    {
      "cell_type": "markdown",
      "source": [
        "The data will be summarized at the customer level by taking the number of days until the last transaction, the sum of the total transaction amount and the total transaction number"
      ],
      "metadata": {
        "id": "OMIiAUDV-UNG"
      }
    },
    {
      "cell_type": "code",
      "source": [
        "rfmTable = df.groupby('customer_id').agg({'hist': lambda x:x.min(), # Recency\n",
        "                                        'customer_id': lambda x: len(x),               # Frequency\n",
        "                                        'tran_amount': lambda x: x.sum()})          # Monetary Value\n",
        "\n",
        "rfmTable.rename(columns={'hist': 'recency', \n",
        "                         'customer_id': 'frequency', \n",
        "                         'tran_amount': 'monetary_value'}, inplace=True)"
      ],
      "metadata": {
        "id": "i7STfk4S-ThF"
      },
      "execution_count": 6,
      "outputs": []
    },
    {
      "cell_type": "markdown",
      "source": [
        "RFM analysis consists of classifying R, F and M into 3 or more categories. For simplicity, I will create 4 categories based on the quartiles"
      ],
      "metadata": {
        "id": "V3s4IBig-f7m"
      }
    },
    {
      "cell_type": "code",
      "source": [
        "quartiles = rfmTable.quantile(q=[0.25,0.50,0.75])"
      ],
      "metadata": {
        "id": "DTetPAUk-h4N"
      },
      "execution_count": 7,
      "outputs": []
    },
    {
      "cell_type": "markdown",
      "source": [
        "let’s convert the quartile information into a dictionary so that the thresholds can be raised:"
      ],
      "metadata": {
        "id": "W2Sd9f6n-o3G"
      }
    },
    {
      "cell_type": "code",
      "source": [
        "quartiles=quartiles.to_dict()"
      ],
      "metadata": {
        "id": "zrb2EMNk-oIN"
      },
      "execution_count": 8,
      "outputs": []
    },
    {
      "cell_type": "markdown",
      "source": [
        "In the case of recency, the lower the better and therefore our categorization system must be reversed:"
      ],
      "metadata": {
        "id": "P2tHOZOs-xi9"
      }
    },
    {
      "cell_type": "code",
      "source": [
        "def RClass(x,p,d):\n",
        "    if x <= d[p][0.25]:\n",
        "        return 1\n",
        "    elif x <= d[p][0.50]:\n",
        "        return 2\n",
        "    elif x <= d[p][0.75]: \n",
        "        return 3\n",
        "    else:\n",
        "        return 4\n",
        "    \n",
        "## for Frequency and Monetary value \n",
        "\n",
        "def FMClass(x,p,d):\n",
        "    if x <= d[p][0.25]:\n",
        "        return 4\n",
        "    elif x <= d[p][0.50]:\n",
        "        return 3\n",
        "    elif x <= d[p][0.75]: \n",
        "        return 2\n",
        "    else:\n",
        "        return 1\n",
        "rfmSeg = rfmTable\n",
        "rfmSeg['R_Quartile'] = rfmSeg['recency'].apply(RClass, args=('recency',quartiles,))\n",
        "rfmSeg['F_Quartile'] = rfmSeg['frequency'].apply(FMClass, args=('frequency',quartiles,))\n",
        "rfmSeg['M_Quartile'] = rfmSeg['monetary_value'].apply(FMClass, args=('monetary_value',quartiles,))"
      ],
      "metadata": {
        "id": "uqhOaHQJ-ygl"
      },
      "execution_count": 9,
      "outputs": []
    },
    {
      "cell_type": "markdown",
      "source": [
        "For RFM analysis, it is essential to combine scores to create a single score. There are a few approaches. One simple way is to join the scores to create a 3-digit number between 111 and 444. The downside here is too many categories (4x4x4). Also, not easy to prioritize scores like 421 versus 412"
      ],
      "metadata": {
        "id": "jvlUBrM5_ESV"
      }
    },
    {
      "cell_type": "code",
      "source": [
        "rfmSeg['RFMClass'] = rfmSeg.R_Quartile.map(str)+ rfmSeg.F_Quartile.map(str) + rfmSeg.M_Quartile.map(str)\n",
        "rfmSeg.sort_values(by=['RFMClass', 'monetary_value'], ascending=[True, False])"
      ],
      "metadata": {
        "colab": {
          "base_uri": "https://localhost:8080/",
          "height": 455
        },
        "id": "NHPowr3o_Z0s",
        "outputId": "2572171c-0f93-40e8-ed5f-82a300e50af7"
      },
      "execution_count": 12,
      "outputs": [
        {
          "output_type": "execute_result",
          "data": {
            "text/plain": [
              "             recency  frequency  monetary_value  R_Quartile  F_Quartile  \\\n",
              "customer_id                                                               \n",
              "CS4640          34.0         21            1610           1           1   \n",
              "CS5343          29.0         20            1585           1           1   \n",
              "CS3622          29.0         20            1549           1           1   \n",
              "CS2316          19.0         21            1446           1           1   \n",
              "CS3270          19.0         20            1436           1           1   \n",
              "...              ...        ...             ...         ...         ...   \n",
              "CS8033         499.0          1              24           4           4   \n",
              "CS8400         462.0          1              19           4           4   \n",
              "CS8760         463.0          1              19           4           4   \n",
              "CS8740         485.0          1              17           4           4   \n",
              "CS7129         398.0          1              14           4           4   \n",
              "\n",
              "             M_Quartile RFMClass  \n",
              "customer_id                       \n",
              "CS4640                1      111  \n",
              "CS5343                1      111  \n",
              "CS3622                1      111  \n",
              "CS2316                1      111  \n",
              "CS3270                1      111  \n",
              "...                 ...      ...  \n",
              "CS8033                4      444  \n",
              "CS8400                4      444  \n",
              "CS8760                4      444  \n",
              "CS8740                4      444  \n",
              "CS7129                4      444  \n",
              "\n",
              "[6884 rows x 7 columns]"
            ],
            "text/html": [
              "\n",
              "  <div id=\"df-bbde6c75-9c5b-42cc-98a1-2928f8b47cd9\">\n",
              "    <div class=\"colab-df-container\">\n",
              "      <div>\n",
              "<style scoped>\n",
              "    .dataframe tbody tr th:only-of-type {\n",
              "        vertical-align: middle;\n",
              "    }\n",
              "\n",
              "    .dataframe tbody tr th {\n",
              "        vertical-align: top;\n",
              "    }\n",
              "\n",
              "    .dataframe thead th {\n",
              "        text-align: right;\n",
              "    }\n",
              "</style>\n",
              "<table border=\"1\" class=\"dataframe\">\n",
              "  <thead>\n",
              "    <tr style=\"text-align: right;\">\n",
              "      <th></th>\n",
              "      <th>recency</th>\n",
              "      <th>frequency</th>\n",
              "      <th>monetary_value</th>\n",
              "      <th>R_Quartile</th>\n",
              "      <th>F_Quartile</th>\n",
              "      <th>M_Quartile</th>\n",
              "      <th>RFMClass</th>\n",
              "    </tr>\n",
              "    <tr>\n",
              "      <th>customer_id</th>\n",
              "      <th></th>\n",
              "      <th></th>\n",
              "      <th></th>\n",
              "      <th></th>\n",
              "      <th></th>\n",
              "      <th></th>\n",
              "      <th></th>\n",
              "    </tr>\n",
              "  </thead>\n",
              "  <tbody>\n",
              "    <tr>\n",
              "      <th>CS4640</th>\n",
              "      <td>34.0</td>\n",
              "      <td>21</td>\n",
              "      <td>1610</td>\n",
              "      <td>1</td>\n",
              "      <td>1</td>\n",
              "      <td>1</td>\n",
              "      <td>111</td>\n",
              "    </tr>\n",
              "    <tr>\n",
              "      <th>CS5343</th>\n",
              "      <td>29.0</td>\n",
              "      <td>20</td>\n",
              "      <td>1585</td>\n",
              "      <td>1</td>\n",
              "      <td>1</td>\n",
              "      <td>1</td>\n",
              "      <td>111</td>\n",
              "    </tr>\n",
              "    <tr>\n",
              "      <th>CS3622</th>\n",
              "      <td>29.0</td>\n",
              "      <td>20</td>\n",
              "      <td>1549</td>\n",
              "      <td>1</td>\n",
              "      <td>1</td>\n",
              "      <td>1</td>\n",
              "      <td>111</td>\n",
              "    </tr>\n",
              "    <tr>\n",
              "      <th>CS2316</th>\n",
              "      <td>19.0</td>\n",
              "      <td>21</td>\n",
              "      <td>1446</td>\n",
              "      <td>1</td>\n",
              "      <td>1</td>\n",
              "      <td>1</td>\n",
              "      <td>111</td>\n",
              "    </tr>\n",
              "    <tr>\n",
              "      <th>CS3270</th>\n",
              "      <td>19.0</td>\n",
              "      <td>20</td>\n",
              "      <td>1436</td>\n",
              "      <td>1</td>\n",
              "      <td>1</td>\n",
              "      <td>1</td>\n",
              "      <td>111</td>\n",
              "    </tr>\n",
              "    <tr>\n",
              "      <th>...</th>\n",
              "      <td>...</td>\n",
              "      <td>...</td>\n",
              "      <td>...</td>\n",
              "      <td>...</td>\n",
              "      <td>...</td>\n",
              "      <td>...</td>\n",
              "      <td>...</td>\n",
              "    </tr>\n",
              "    <tr>\n",
              "      <th>CS8033</th>\n",
              "      <td>499.0</td>\n",
              "      <td>1</td>\n",
              "      <td>24</td>\n",
              "      <td>4</td>\n",
              "      <td>4</td>\n",
              "      <td>4</td>\n",
              "      <td>444</td>\n",
              "    </tr>\n",
              "    <tr>\n",
              "      <th>CS8400</th>\n",
              "      <td>462.0</td>\n",
              "      <td>1</td>\n",
              "      <td>19</td>\n",
              "      <td>4</td>\n",
              "      <td>4</td>\n",
              "      <td>4</td>\n",
              "      <td>444</td>\n",
              "    </tr>\n",
              "    <tr>\n",
              "      <th>CS8760</th>\n",
              "      <td>463.0</td>\n",
              "      <td>1</td>\n",
              "      <td>19</td>\n",
              "      <td>4</td>\n",
              "      <td>4</td>\n",
              "      <td>4</td>\n",
              "      <td>444</td>\n",
              "    </tr>\n",
              "    <tr>\n",
              "      <th>CS8740</th>\n",
              "      <td>485.0</td>\n",
              "      <td>1</td>\n",
              "      <td>17</td>\n",
              "      <td>4</td>\n",
              "      <td>4</td>\n",
              "      <td>4</td>\n",
              "      <td>444</td>\n",
              "    </tr>\n",
              "    <tr>\n",
              "      <th>CS7129</th>\n",
              "      <td>398.0</td>\n",
              "      <td>1</td>\n",
              "      <td>14</td>\n",
              "      <td>4</td>\n",
              "      <td>4</td>\n",
              "      <td>4</td>\n",
              "      <td>444</td>\n",
              "    </tr>\n",
              "  </tbody>\n",
              "</table>\n",
              "<p>6884 rows × 7 columns</p>\n",
              "</div>\n",
              "      <button class=\"colab-df-convert\" onclick=\"convertToInteractive('df-bbde6c75-9c5b-42cc-98a1-2928f8b47cd9')\"\n",
              "              title=\"Convert this dataframe to an interactive table.\"\n",
              "              style=\"display:none;\">\n",
              "        \n",
              "  <svg xmlns=\"http://www.w3.org/2000/svg\" height=\"24px\"viewBox=\"0 0 24 24\"\n",
              "       width=\"24px\">\n",
              "    <path d=\"M0 0h24v24H0V0z\" fill=\"none\"/>\n",
              "    <path d=\"M18.56 5.44l.94 2.06.94-2.06 2.06-.94-2.06-.94-.94-2.06-.94 2.06-2.06.94zm-11 1L8.5 8.5l.94-2.06 2.06-.94-2.06-.94L8.5 2.5l-.94 2.06-2.06.94zm10 10l.94 2.06.94-2.06 2.06-.94-2.06-.94-.94-2.06-.94 2.06-2.06.94z\"/><path d=\"M17.41 7.96l-1.37-1.37c-.4-.4-.92-.59-1.43-.59-.52 0-1.04.2-1.43.59L10.3 9.45l-7.72 7.72c-.78.78-.78 2.05 0 2.83L4 21.41c.39.39.9.59 1.41.59.51 0 1.02-.2 1.41-.59l7.78-7.78 2.81-2.81c.8-.78.8-2.07 0-2.86zM5.41 20L4 18.59l7.72-7.72 1.47 1.35L5.41 20z\"/>\n",
              "  </svg>\n",
              "      </button>\n",
              "      \n",
              "  <style>\n",
              "    .colab-df-container {\n",
              "      display:flex;\n",
              "      flex-wrap:wrap;\n",
              "      gap: 12px;\n",
              "    }\n",
              "\n",
              "    .colab-df-convert {\n",
              "      background-color: #E8F0FE;\n",
              "      border: none;\n",
              "      border-radius: 50%;\n",
              "      cursor: pointer;\n",
              "      display: none;\n",
              "      fill: #1967D2;\n",
              "      height: 32px;\n",
              "      padding: 0 0 0 0;\n",
              "      width: 32px;\n",
              "    }\n",
              "\n",
              "    .colab-df-convert:hover {\n",
              "      background-color: #E2EBFA;\n",
              "      box-shadow: 0px 1px 2px rgba(60, 64, 67, 0.3), 0px 1px 3px 1px rgba(60, 64, 67, 0.15);\n",
              "      fill: #174EA6;\n",
              "    }\n",
              "\n",
              "    [theme=dark] .colab-df-convert {\n",
              "      background-color: #3B4455;\n",
              "      fill: #D2E3FC;\n",
              "    }\n",
              "\n",
              "    [theme=dark] .colab-df-convert:hover {\n",
              "      background-color: #434B5C;\n",
              "      box-shadow: 0px 1px 3px 1px rgba(0, 0, 0, 0.15);\n",
              "      filter: drop-shadow(0px 1px 2px rgba(0, 0, 0, 0.3));\n",
              "      fill: #FFFFFF;\n",
              "    }\n",
              "  </style>\n",
              "\n",
              "      <script>\n",
              "        const buttonEl =\n",
              "          document.querySelector('#df-bbde6c75-9c5b-42cc-98a1-2928f8b47cd9 button.colab-df-convert');\n",
              "        buttonEl.style.display =\n",
              "          google.colab.kernel.accessAllowed ? 'block' : 'none';\n",
              "\n",
              "        async function convertToInteractive(key) {\n",
              "          const element = document.querySelector('#df-bbde6c75-9c5b-42cc-98a1-2928f8b47cd9');\n",
              "          const dataTable =\n",
              "            await google.colab.kernel.invokeFunction('convertToInteractive',\n",
              "                                                     [key], {});\n",
              "          if (!dataTable) return;\n",
              "\n",
              "          const docLinkHtml = 'Like what you see? Visit the ' +\n",
              "            '<a target=\"_blank\" href=https://colab.research.google.com/notebooks/data_table.ipynb>data table notebook</a>'\n",
              "            + ' to learn more about interactive tables.';\n",
              "          element.innerHTML = '';\n",
              "          dataTable['output_type'] = 'display_data';\n",
              "          await google.colab.output.renderOutput(dataTable, element);\n",
              "          const docLink = document.createElement('div');\n",
              "          docLink.innerHTML = docLinkHtml;\n",
              "          element.appendChild(docLink);\n",
              "        }\n",
              "      </script>\n",
              "    </div>\n",
              "  </div>\n",
              "  "
            ]
          },
          "metadata": {},
          "execution_count": 12
        }
      ]
    },
    {
      "cell_type": "markdown",
      "source": [
        "Another possibility is to combine the scores to create a score (eg 4 + 1 + 1). Here the advantage is that each of the scores has the same importance. However, some scores will have many locations as constituents (eg – 413 and 431):"
      ],
      "metadata": {
        "id": "IPhqu35M_soi"
      }
    },
    {
      "cell_type": "code",
      "source": [
        "rfmSeg['Total Score'] = rfmSeg['R_Quartile'] + rfmSeg['F_Quartile'] +rfmSeg['M_Quartile']"
      ],
      "metadata": {
        "id": "NL3AqnnT_t2K"
      },
      "execution_count": 13,
      "outputs": []
    },
    {
      "cell_type": "markdown",
      "source": [
        "Let’s check how the combined score arranges R, F and M:"
      ],
      "metadata": {
        "id": "L8CFjyva_1ga"
      }
    },
    {
      "cell_type": "code",
      "source": [
        "rfmSeg.groupby('Total Score').agg('monetary_value').mean().plot(kind='bar', colormap='Blues_r');"
      ],
      "metadata": {
        "colab": {
          "base_uri": "https://localhost:8080/",
          "height": 282
        },
        "id": "Tgaew8kB_2br",
        "outputId": "751ac15f-5510-4f09-9cca-3b7a76412885"
      },
      "execution_count": 15,
      "outputs": [
        {
          "output_type": "display_data",
          "data": {
            "text/plain": [
              "<Figure size 432x288 with 1 Axes>"
            ],
            "image/png": "[encoded data removed]"
          },
          "metadata": {
            "needs_background": "light"
          }
        }
      ]
    },
    {
      "cell_type": "code",
      "source": [
        "rfmSeg.groupby('Total Score').agg('frequency').mean().plot(kind='bar', colormap='Blues_r');"
      ],
      "metadata": {
        "colab": {
          "base_uri": "https://localhost:8080/",
          "height": 282
        },
        "id": "TD3PJmvVAJxC",
        "outputId": "54d03c9e-8199-4942-847c-e7d39a4b201d"
      },
      "execution_count": 17,
      "outputs": [
        {
          "output_type": "display_data",
          "data": {
            "text/plain": [
              "<Figure size 432x288 with 1 Axes>"
            ],
            "image/png": "[encoded data removed]"
          },
          "metadata": {
            "needs_background": "light"
          }
        }
      ]
    },
    {
      "cell_type": "markdown",
      "source": [
        "The ultimate test of the RFM analysis is the impact on any consumer behaviour. Let’s check its impact on customer response to a promotional campaign"
      ],
      "metadata": {
        "id": "ZehHVPXWASrx"
      }
    },
    {
      "cell_type": "code",
      "source": [
        "res = pd.read_csv('/content/drive/MyDrive/filename/datasets_10664_14912_Retail_Data_Response.csv')\n",
        "res.sort_values('customer_id', inplace=True)\n",
        "rfmSeg.reset_index(inplace=True)\n",
        "rfmSeg.sort_values('customer_id', inplace=True)\n",
        "rfm2=pd.merge(rfmSeg, res, on='customer_id')\n",
        "\n",
        "ax=rfm2.groupby('Total Score').agg('response').mean().plot(kind='bar', colormap='copper_r')\n",
        "ax.set_xlabel(\"Total Score\")\n",
        "ax.set_ylabel(\"Proportion of Responders\")"
      ],
      "metadata": {
        "colab": {
          "base_uri": "https://localhost:8080/",
          "height": 299
        },
        "id": "3XiGPEjBATqq",
        "outputId": "9299e6bc-1b22-4bed-ff17-52db6966d38d"
      },
      "execution_count": 18,
      "outputs": [
        {
          "output_type": "execute_result",
          "data": {
            "text/plain": [
              "Text(0, 0.5, 'Proportion of Responders')"
            ]
          },
          "metadata": {},
          "execution_count": 18
        },
        {
          "output_type": "display_data",
          "data": {
            "text/plain": [
              "<Figure size 432x288 with 1 Axes>"
            ],
            "image/png": "[encoded data removed]"
          },
          "metadata": {
            "needs_background": "light"
          }
        }
      ]
    },
    {
      "cell_type": "markdown",
      "source": [
        "The graph shows that response behaviour is strongly related to the combined score. However, there is not much difference between scores of 3,4.5 and 6. While the performance of RFM scores is much lower for scores greater than 6."
      ],
      "metadata": {
        "id": "1l1Oe7g0BYQh"
      }
    }
  ]
}